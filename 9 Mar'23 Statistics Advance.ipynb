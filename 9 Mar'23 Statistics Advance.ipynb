{
 "cells": [
  {
   "cell_type": "markdown",
   "id": "3fa5c245-9f1b-4456-83b0-0e3d4bb6118d",
   "metadata": {},
   "source": [
    "Q1: What are the Probability Mass Function (PMF) and Probability Density Function (PDF)? Explain with\n",
    "an example."
   ]
  },
  {
   "cell_type": "markdown",
   "id": "8eb14734-3f5c-42fb-ab30-777b098b10fc",
   "metadata": {},
   "source": [
    "The Probability Mass Function (PMF) is a function that assigns probabilities to the possible values of a discrete random variable1. For example, if we have a random variable X that represents the outcome of rolling a fair six-sided die, then the possible values of X are 1, 2, 3, 4, 5, and 6. The PMF of X would assign a probability of 1/6 to each of these possible values2.\n",
    "\n",
    "On the other hand, the Probability Density Function (PDF) is a function that describes the probability distribution of a continuous random variable. Unlike the PMF, which assigns probabilities to specific values of a discrete random variable, the PDF assigns probabilities to intervals of values.\n",
    "\n",
    "Let’s say we have a random variable X that represents the weight of apples in a certain orchard. Since the weight of an apple can be any positive real number, X is a continuous random variable. The PDF of X would describe the probability distribution of apple weights in this orchard.\n",
    "\n",
    "For example, the PDF might assign a high probability to the interval between 100 and 150 grams, indicating that most apples in this orchard weigh between 100 and 150 grams."
   ]
  },
  {
   "cell_type": "markdown",
   "id": "92607c7f-4b54-4b5c-9c94-07faa78fb1b3",
   "metadata": {},
   "source": [
    "Q2: What is Cumulative Density Function (CDF)? Explain with an example. Why CDF is used?"
   ]
  },
  {
   "cell_type": "markdown",
   "id": "526baa6b-94ff-493b-9ca1-3a6154c54c39",
   "metadata": {},
   "source": [
    "The cumulative distribution function is used to describe the probability distribution of random variables. It is obtained by summing up the probability density function and getting the cumulative probability for a random variable.\n",
    "\n",
    "For example, consider rolling a fair six-sided die, where X is the random variable representing the outcome of the roll. The probability of getting an outcome by rolling a six-sided die is given as:\n",
    "\n",
    "Probability of getting 1 or less = P(X ≤ 1) = 1/6\n",
    "Probability of getting 2 or less = P(X ≤ 2) = 2/6\n",
    "Probability of getting 3 or less = P(X ≤ 3) = 3/6 and so on\n",
    "\n",
    "CDFs are useful because they can help you make decisions when there is uncertainty involved."
   ]
  },
  {
   "cell_type": "markdown",
   "id": "5c3e9385-61f6-41c0-bfb8-9a17c23846a7",
   "metadata": {},
   "source": [
    "Q3: What are some examples of situations where the normal distribution might be used as a model?\n",
    "Explain how the parameters of the normal distribution relate to the shape of the distribution."
   ]
  },
  {
   "cell_type": "markdown",
   "id": "5fae3725-fba1-46c2-977c-d4aabae2b9ef",
   "metadata": {},
   "source": [
    "The normal distribution is a widely used model in many fields, including natural and social sciences. Some examples of situations where the normal distribution might be used as a model include:\n",
    "\n",
    "Height: The height of people in a specific population is an example of normal distribution. Most people are of average height, with the number of people taller and shorter than average being almost equal, and very few people being either extremely tall or extremely short.\n",
    "\n",
    "IQ: The IQ of a particular population follows a normal distribution curve, where the IQ of most people lies in the normal range, while the IQ of the rest lies in the deviated range.\n",
    "\n",
    "SAT scores: SAT scores are another example of a variable that is normally distributed. Many statistical tests are designed for normally distributed populations, so understanding the properties of normal distributions means you can use inferential statistics to compare different groups and make estimates about populations using samples.\n",
    "\n",
    "The shape of the normal distribution is determined by its two parameters: the mean and the standard deviation. The mean is the location parameter, which determines where the peak of the curve is centered. Increasing the mean moves the curve to the right, while decreasing it moves the curve to the left. The standard deviation is the scale parameter, which stretches or squeezes the curve. A small standard deviation results in a narrow curve, while a large standard deviation leads to a wide curve."
   ]
  },
  {
   "cell_type": "markdown",
   "id": "79fdd59d-aa46-4f27-bf89-a9f883d016bb",
   "metadata": {},
   "source": [
    "Q4: Explain the importance of Normal Distribution. Give a few real-life examples of Normal\n",
    "Distribution."
   ]
  },
  {
   "cell_type": "markdown",
   "id": "57ee1d00-3ddc-434d-b744-fd48e33e66c4",
   "metadata": {},
   "source": [
    "The normal distribution is important in the field of statistics because it is known to fit several natural phenomena. It is used in the field of Economics, Psychology, Sociology, etc. It is used in the field of medicine for instance, regarding blood pressure, heights, IQ scores, and measurement error.\n",
    "\n",
    "Some real-life examples of normal distribution include:\n",
    "\n",
    "Birthweight of Babies: The birthweight of newborn babies is normally distributed with a mean of about 7.5 pounds.\n",
    "\n",
    "Height of Males: The distribution of the height of males is roughly normally distributed with a mean of 165cm and a standard deviation of 3 cm.\n",
    "\n",
    "Shoe Sizes: The distribution of shoe sizes for males is roughly normally distributed with a mean of size 8 and a standard deviation of 1.\n",
    "\n",
    "Blood Pressure: The distribution of diastolic blood pressure for men is normally distributed with a mean of about 80 and a standard deviation of 10."
   ]
  },
  {
   "cell_type": "markdown",
   "id": "9447c9ce-bce0-4ce1-b8d8-285210fc9962",
   "metadata": {},
   "source": [
    "Q5: What is Bernaulli Distribution? Give an Example. What is the difference between Bernoulli\n",
    "Distribution and Binomial Distribution?"
   ]
  },
  {
   "cell_type": "markdown",
   "id": "21931450-d84a-4f17-9114-54c4a6ba1c08",
   "metadata": {},
   "source": [
    "The Bernoulli distribution is a discrete probability distribution that describes the probability of a random variable with only two outcomes. In the random process called a Bernoulli trial, the random variable can take one outcome, called a success, with a probability p, or take another outcome, called failure, with a probability q = 1-p.\n",
    "\n",
    "An example of a Bernoulli distribution is flipping a coin. If the outcome of the flip is heads then you will win. This means that the probability of getting heads is p = 1/2. If X is the random variable following a Bernoulli Distribution, we get P (X = 1) = p = 1/2.\n",
    "\n",
    "The main difference between Bernoulli and Binomial distributions is that Bernoulli distribution deals with the outcome of a single trial of an event, whereas Binomial distribution deals with the outcome of multiple trials of a single event. Bernoulli is used when the outcome of an event is required for only one time, whereas Binomial is used when the outcome of an event is required multiple times."
   ]
  },
  {
   "cell_type": "markdown",
   "id": "7867ff09-931b-45e5-9988-d4e1cdd203d3",
   "metadata": {},
   "source": [
    "Q6. Consider a dataset with a mean of 50 and a standard deviation of 10. If we assume that the dataset\n",
    "is normally distributed, what is the probability that a randomly selected observation will be greater\n",
    "than 60? Use the appropriate formula and show your calculations."
   ]
  },
  {
   "cell_type": "code",
   "execution_count": 1,
   "id": "b683f52f-71f5-4e6a-8659-6c80dfb9996c",
   "metadata": {},
   "outputs": [
    {
     "name": "stdout",
     "output_type": "stream",
     "text": [
      "The probability that a randomly selected observation will be greater than 60 is 0.1587\n"
     ]
    }
   ],
   "source": [
    "from scipy.stats import norm\n",
    "\n",
    "mean = 50\n",
    "std_dev = 10\n",
    "x = 60\n",
    "z = (x - mean) / std_dev\n",
    "\n",
    "prob = 1 - norm.cdf(z)\n",
    "\n",
    "print(f\"The probability that a randomly selected observation will be greater than {x} is {prob:.4f}\")"
   ]
  },
  {
   "cell_type": "markdown",
   "id": "1356eab7-f253-4322-b461-573383058e5c",
   "metadata": {},
   "source": [
    "Q7: Explain uniform Distribution with an example."
   ]
  },
  {
   "cell_type": "markdown",
   "id": "948f24fe-b5fa-4c4e-9201-fcd42751cc8e",
   "metadata": {},
   "source": [
    "The uniform distribution is a continuous probability distribution that describes events that are equally likely to occur. It is defined by two parameters, x and y, where x is the minimum value and y is the maximum value. The probability density function of a uniform distribution with a continuous random variable X is f(b)=1/y-x.\n",
    "\n",
    "An example of a uniform distribution is the time it takes for a bus to arrive at a bus stop. If the bus arrives every 15 minutes, then the time you have to wait for the bus is uniformly distributed between 0 and 15 minutes. This means that any waiting time from 0 to 15 minutes is equally likely."
   ]
  },
  {
   "cell_type": "markdown",
   "id": "03ec3a8b-1c1b-4d07-a2df-5d7658e9ad54",
   "metadata": {},
   "source": [
    "Q8: What is the z score? State the importance of the z score."
   ]
  },
  {
   "cell_type": "markdown",
   "id": "b36a1edb-337b-4d75-8506-81ebcead2c36",
   "metadata": {},
   "source": [
    "A z-score is a statistical measurement that describes a value’s relationship to the mean of a group of values. It is measured in terms of standard deviations from the mean. If a z-score is 0, it indicates that the data point’s score is identical to the mean score.\n",
    "\n",
    "Z-scores are important because they allow you to standardize the values (raw scores) of a normal distribution by converting them into z-scores. \n",
    "\n",
    "This provides several benefits, including:\n",
    "1. Understanding where a data point fits into a distribution.\n",
    "2. Comparing observations between dissimilar variables.\n",
    "3. Identifying outliers.\n",
    "4. Calculating probabilities and percentiles using the standard normal distribution."
   ]
  },
  {
   "cell_type": "markdown",
   "id": "16750a0a-bed6-4d48-b9ef-54e9b5b0ab38",
   "metadata": {},
   "source": [
    "Q9: What is Central Limit Theorem? State the significance of the Central Limit Theorem."
   ]
  },
  {
   "cell_type": "markdown",
   "id": "1661b627-e357-4af7-aec8-4a8b3d4785f4",
   "metadata": {},
   "source": [
    "The Central Limit Theorem (CLT) is a fundamental concept in statistics. It states that, given a sufficiently large sample size, the distribution of sample means will be approximately normal, regardless of the shape of the population distribution. This means that if you take many random samples from a population and calculate the mean for each sample, the distribution of those sample means will be approximately normal.\n",
    "\n",
    "The significance of the CLT lies in its ability to allow us to make inferences about population parameters using sample statistics. For example, if we want to estimate the mean of a population, we can take a random sample from that population and calculate the sample mean. According to the CLT, if our sample size is large enough, the distribution of sample means will be approximately normal. This allows us to use the properties of the normal distribution to calculate confidence intervals and perform hypothesis tests."
   ]
  },
  {
   "cell_type": "markdown",
   "id": "3ecb4ffd-1091-4ab1-ac2b-47a78b964e53",
   "metadata": {},
   "source": [
    "Q10: State the assumptions of the Central Limit Theorem."
   ]
  },
  {
   "cell_type": "markdown",
   "id": "f3b8ee5d-aa6e-4ffd-98dc-d8f534721270",
   "metadata": {},
   "source": [
    "There are several assumptions that must be met for the CLT to hold:\n",
    "\n",
    "1. The final sample should ideally be drawn in a random manner after the condition of randomization.\n",
    "2. The sample that is drawn should also be independent of one another. This means that the sample should not influence other samples.\n",
    "3. If the sampling is done without any replacement, then the sample size should not exceed 10% of the total population.\n",
    "4. The sample size should also be quite large."
   ]
  }
 ],
 "metadata": {
  "kernelspec": {
   "display_name": "Python 3 (ipykernel)",
   "language": "python",
   "name": "python3"
  },
  "language_info": {
   "codemirror_mode": {
    "name": "ipython",
    "version": 3
   },
   "file_extension": ".py",
   "mimetype": "text/x-python",
   "name": "python",
   "nbconvert_exporter": "python",
   "pygments_lexer": "ipython3",
   "version": "3.10.8"
  }
 },
 "nbformat": 4,
 "nbformat_minor": 5
}
