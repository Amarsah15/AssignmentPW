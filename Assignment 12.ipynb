{
 "cells": [
  {
   "cell_type": "markdown",
   "id": "84fed903-3050-4bc5-8ba9-32633714b727",
   "metadata": {},
   "source": [
    "Q1. What is an Exception in python? Write the difference between Exceptions and Syntax errors."
   ]
  },
  {
   "cell_type": "markdown",
   "id": "3986c74c-f0af-4db7-90ab-6442679cf6a8",
   "metadata": {},
   "source": [
    "Syntax Error: As the name suggests this error is caused by the wrong syntax in the code. It leads to the termination of the program.\n",
    "\n",
    "Exceptions: Exceptions are raised when the program is syntactically correct, but the code results in an error. This error does not stop the execution of the program, however, it changes the normal flow of the program."
   ]
  },
  {
   "cell_type": "markdown",
   "id": "d752302b-1b2b-4777-b0dc-e2c3e3187c88",
   "metadata": {},
   "source": [
    "Q2. What happens when an exception is not handled? Explain with an example."
   ]
  },
  {
   "cell_type": "raw",
   "id": "5081a894-c3d8-4550-a5cd-46f4f5b80173",
   "metadata": {},
   "source": [
    "An exception is an error that occurs during the execution of a program. When an exception is not handled, it causes the program to terminate abruptly and display an error message.\n",
    "\n",
    "For example, consider the following code that tries to divide a number by zero:\n",
    "\n",
    "num = 10\n",
    "den = 0\n",
    "result = num / den\n",
    "print(result)\n",
    "\n",
    "This code will raise a ZeroDivisionError exception and stop the program\n",
    "\n",
    "To prevent this, we can use a try-except block to catch and handle the exception. For example:"
   ]
  },
  {
   "cell_type": "code",
   "execution_count": 1,
   "id": "1244a00e-6502-447d-afc8-ddb575caa426",
   "metadata": {},
   "outputs": [
    {
     "name": "stdout",
     "output_type": "stream",
     "text": [
      "Cannot divide by zero\n",
      "2.0\n"
     ]
    }
   ],
   "source": [
    "num = 10\n",
    "den = 0\n",
    "den1 = 5\n",
    "try:\n",
    "    result = num / den\n",
    "    print(result)\n",
    "except ZeroDivisionError:\n",
    "    print(\"Cannot divide by zero\")\n",
    "    \n",
    "try:\n",
    "    result = num / den1\n",
    "    print(result)\n",
    "except ZeroDivisionError:\n",
    "    print(\"Cannot divide by zero\")"
   ]
  },
  {
   "cell_type": "markdown",
   "id": "8e769c75-2b64-4ec0-b485-094c2b51a0e0",
   "metadata": {},
   "source": [
    "Q3. Which Python statements are used to catch and handle an exceptions? Explain with an example."
   ]
  },
  {
   "cell_type": "markdown",
   "id": "f3e92ae4-b98b-471e-a529-d5b78c01faca",
   "metadata": {},
   "source": [
    "The Python statements that are used to catch and handle exceptions are try and except."
   ]
  },
  {
   "cell_type": "code",
   "execution_count": 2,
   "id": "a952cd05-0cfa-4014-84ec-91cfa387d4de",
   "metadata": {},
   "outputs": [
    {
     "name": "stdin",
     "output_type": "stream",
     "text": [
      "Enter a number:  5\n"
     ]
    },
    {
     "name": "stdout",
     "output_type": "stream",
     "text": [
      "The result is 2.0\n"
     ]
    }
   ],
   "source": [
    "try:\n",
    "    x = int(input(\"Enter a number: \"))\n",
    "    y = 10 / x\n",
    "    \n",
    "except ZeroDivisionError:\n",
    "    print(\"Cannot divide by zero\")\n",
    "    \n",
    "else:\n",
    "    print(\"The result is\", y)"
   ]
  },
  {
   "cell_type": "code",
   "execution_count": 3,
   "id": "96309cae-aa12-401c-8dbe-6ef7f706ea04",
   "metadata": {},
   "outputs": [
    {
     "name": "stdin",
     "output_type": "stream",
     "text": [
      "Enter a number:  0\n"
     ]
    },
    {
     "name": "stdout",
     "output_type": "stream",
     "text": [
      "Cannot divide by zero\n"
     ]
    }
   ],
   "source": [
    "try:\n",
    "    x = int(input(\"Enter a number: \"))\n",
    "    y = 10 / x\n",
    "    \n",
    "except ZeroDivisionError:\n",
    "    print(\"Cannot divide by zero\")\n",
    "    \n",
    "else:\n",
    "    print(\"The result is\", y)"
   ]
  },
  {
   "cell_type": "markdown",
   "id": "1cd5565b-77ca-4ce2-b692-67744568bb3e",
   "metadata": {},
   "source": [
    "Q4. Explain with an example\n",
    "\n",
    "a. try and else\n",
    "b. finally\n",
    "c. raise"
   ]
  },
  {
   "cell_type": "code",
   "execution_count": 4,
   "id": "e4af91e8-2f39-4516-8340-073c440f7618",
   "metadata": {},
   "outputs": [
    {
     "name": "stdin",
     "output_type": "stream",
     "text": [
      "Enter a number:  0\n"
     ]
    },
    {
     "name": "stdout",
     "output_type": "stream",
     "text": [
      "Cannot divide by zero\n",
      "Done\n"
     ]
    }
   ],
   "source": [
    "try:\n",
    "    x = int(input(\"Enter a number: \"))\n",
    "    y = 10 / x\n",
    "\n",
    "except ZeroDivisionError:\n",
    "    print(\"Cannot divide by zero\")\n",
    "    \n",
    "else:\n",
    "    print(\"The result is\", y)\n",
    "\n",
    "# finally: This keyword is used to execute a block of code after the try and except blocks,\n",
    "# regardless of whether an exception occurs or not. \n",
    "# It is useful for cleaning up resources or performing some final actions\n",
    "finally:\n",
    "    print(\"Done\")"
   ]
  },
  {
   "cell_type": "code",
   "execution_count": 5,
   "id": "52163a1f-695d-4543-a7d8-3a8fc83f2a15",
   "metadata": {},
   "outputs": [
    {
     "name": "stdout",
     "output_type": "stream",
     "text": [
      "Sorry, no numbers below zero\n"
     ]
    }
   ],
   "source": [
    "# raise: This keyword is used to manually throw an exception.\n",
    "# You can specify the type of exception and a custom message.\n",
    "\n",
    "x = -1\n",
    "\n",
    "try:\n",
    "    if x < 0:\n",
    "        raise Exception(\"Sorry, no numbers below zero\")\n",
    "except Exception as e:\n",
    "    print(e)"
   ]
  },
  {
   "cell_type": "markdown",
   "id": "397554ff-3b45-4722-8b2e-abc7e63d9e1a",
   "metadata": {},
   "source": [
    "Q5. What are Custom Exceptions in python? Why do we need Custom Exceptions? Explain with an example."
   ]
  },
  {
   "cell_type": "markdown",
   "id": "45427e73-32f7-4d57-84d1-61862d6d1b0e",
   "metadata": {},
   "source": [
    "Custom exceptions are user-defined exceptions that are derived from the built-in Exception class in Python.\n",
    "\n",
    "They are useful for handling specific errors or situations that are not covered by the standard exceptions.\n",
    "\n",
    "For example, you can create a custom exception to check the validity of an input value:"
   ]
  },
  {
   "cell_type": "code",
   "execution_count": 6,
   "id": "4ddf973d-c3dc-4ca2-aa02-1a9857e17ea5",
   "metadata": {},
   "outputs": [],
   "source": [
    "def validaetage(age) : \n",
    "    if age < 0 :\n",
    "        raise validateage(\"Enter age is negative \")\n",
    "    elif age > 200 : \n",
    "        raise validateage(\"Enter age is very very high \")\n",
    "    else :\n",
    "        print(\"Age is valid\")"
   ]
  },
  {
   "cell_type": "code",
   "execution_count": 7,
   "id": "26763ea8-97c8-4d2e-a8a9-d9b9ee5a794d",
   "metadata": {},
   "outputs": [
    {
     "name": "stdin",
     "output_type": "stream",
     "text": [
      "Enter your age 20\n"
     ]
    },
    {
     "name": "stdout",
     "output_type": "stream",
     "text": [
      "Age is valid\n"
     ]
    }
   ],
   "source": [
    "try :\n",
    "    age = int(input(\"Enter your age\"))\n",
    "    validaetage(age)\n",
    "except validateage as e :\n",
    "    print(e)"
   ]
  },
  {
   "cell_type": "markdown",
   "id": "f1f0c6e9-8175-4099-a326-89ed17471837",
   "metadata": {},
   "source": [
    "Q6. Create a custom exception class. Use this class to handle an exception. "
   ]
  },
  {
   "cell_type": "code",
   "execution_count": 8,
   "id": "c75c3dd2-ee03-45cf-8bf6-148b8e5f3965",
   "metadata": {},
   "outputs": [
    {
     "name": "stdin",
     "output_type": "stream",
     "text": [
      "Enter a number:  15\n"
     ]
    },
    {
     "name": "stdout",
     "output_type": "stream",
     "text": [
      "Exception occurred: Invalid Age\n"
     ]
    }
   ],
   "source": [
    "class InvalidAgeException(Exception):\n",
    "    \"Raised when the input value is less than 18\"\n",
    "    pass\n",
    "\n",
    "try:\n",
    "    input_num = int(input(\"Enter a number: \"))\n",
    "    if input_num < 18:\n",
    "        raise InvalidAgeException\n",
    "    else:\n",
    "        print(\"Eligible to Vote\")\n",
    "        \n",
    "except InvalidAgeException:\n",
    "    print(\"Exception occurred: Invalid Age\")"
   ]
  }
 ],
 "metadata": {
  "kernelspec": {
   "display_name": "Python 3 (ipykernel)",
   "language": "python",
   "name": "python3"
  },
  "language_info": {
   "codemirror_mode": {
    "name": "ipython",
    "version": 3
   },
   "file_extension": ".py",
   "mimetype": "text/x-python",
   "name": "python",
   "nbconvert_exporter": "python",
   "pygments_lexer": "ipython3",
   "version": "3.10.8"
  }
 },
 "nbformat": 4,
 "nbformat_minor": 5
}
