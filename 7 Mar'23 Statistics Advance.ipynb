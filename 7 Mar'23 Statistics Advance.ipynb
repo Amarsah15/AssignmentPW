{
 "cells": [
  {
   "cell_type": "markdown",
   "id": "6ae3b8cd-5720-4553-b7a5-551e03839749",
   "metadata": {},
   "source": [
    "Q1. What are the three measures of central tendency?"
   ]
  },
  {
   "cell_type": "markdown",
   "id": "92cfcc75-b772-495b-891c-5b341ad07dc6",
   "metadata": {},
   "source": [
    "The three measures of central tendency are the mode, the median, and the mean.\n",
    "\n",
    "The mode is the most frequent value in a dataset. The median is the middle number in an ordered dataset. The mean is the sum of all values divided by the total number of values."
   ]
  },
  {
   "cell_type": "markdown",
   "id": "23680c54-36cc-422f-bc6e-daaa97a5d613",
   "metadata": {},
   "source": [
    "Q2. What is the difference between the mean, median, and mode? How are they used to measure the\n",
    "central tendency of a dataset?"
   ]
  },
  {
   "cell_type": "markdown",
   "id": "4dacb78f-c119-4305-a74f-f9c47aee596e",
   "metadata": {},
   "source": [
    "The mean is the average value of the dataset. It is calculated by adding up all the values in the dataset and dividing by the number of values.\n",
    "\n",
    "The median is the middle value of the dataset when it is arranged in ascending or descending order. If there is an even number of values in the dataset, then the median is calculated by taking the average of the two middle values.\n",
    "\n",
    "The mode is the most frequently occurring value in the dataset. A dataset can have more than one mode or no mode at all.\n",
    "\n",
    "The mean, median, and mode are all measures of central tendency, which is a way to describe the center of a dataset. They are used to summarize a dataset with a single value that reflects the center of the data distribution.\n",
    "\n",
    "The mean is sensitive to outliers, meaning that extreme values can significantly affect the mean.\n",
    "\n",
    "The median is less sensitive to outliers than the mean.\n",
    "\n",
    "The mode is not affected by outliers."
   ]
  },
  {
   "cell_type": "markdown",
   "id": "23b6d4eb-2e23-429a-837c-375c409ebb1f",
   "metadata": {},
   "source": [
    "Q3. Measure the three measures of central tendency for the given height data:\n",
    "[178,177,176,177,178.2,178,175,179,180,175,178.9,176.2,177,172.5,178,176.5]"
   ]
  },
  {
   "cell_type": "code",
   "execution_count": 1,
   "id": "fd869a44-9276-4475-9a7a-1c94554f7004",
   "metadata": {},
   "outputs": [
    {
     "data": {
      "text/plain": [
       "177.01875"
      ]
     },
     "execution_count": 1,
     "metadata": {},
     "output_type": "execute_result"
    }
   ],
   "source": [
    "import numpy as np\n",
    "\n",
    "given_list = [178,177,176,177,178.2,178,175,179,180,175,178.9,176.2,177,172.5,178,176.5]\n",
    "\n",
    "np.mean(given_list)"
   ]
  },
  {
   "cell_type": "code",
   "execution_count": 2,
   "id": "59f46ac9-c690-47ce-b248-85e185ec8d94",
   "metadata": {},
   "outputs": [
    {
     "data": {
      "text/plain": [
       "177.0"
      ]
     },
     "execution_count": 2,
     "metadata": {},
     "output_type": "execute_result"
    }
   ],
   "source": [
    "given_list = [178,177,176,177,178.2,178,175,179,180,175,178.9,176.2,177,172.5,178,176.5]\n",
    "\n",
    "np.median(given_list)"
   ]
  },
  {
   "cell_type": "code",
   "execution_count": 3,
   "id": "f9b0d900-5a1e-4d97-a0f0-51a41a6f718f",
   "metadata": {},
   "outputs": [
    {
     "data": {
      "text/plain": [
       "ModeResult(mode=array([177.]), count=array([3]))"
      ]
     },
     "execution_count": 3,
     "metadata": {},
     "output_type": "execute_result"
    }
   ],
   "source": [
    "from scipy import stats as st\n",
    "st.mode(given_list , keepdims=True)"
   ]
  },
  {
   "cell_type": "markdown",
   "id": "73150df2-5437-4ac3-ab22-73e1eff7d89d",
   "metadata": {},
   "source": [
    "Q4. Find the standard deviation for the given data:\n",
    "[178,177,176,177,178.2,178,175,179,180,175,178.9,176.2,177,172.5,178,176.5]"
   ]
  },
  {
   "cell_type": "code",
   "execution_count": 4,
   "id": "56683a46-b528-452c-a6b8-9e1cbf4b489e",
   "metadata": {},
   "outputs": [
    {
     "data": {
      "text/plain": [
       "1.7885814036548633"
      ]
     },
     "execution_count": 4,
     "metadata": {},
     "output_type": "execute_result"
    }
   ],
   "source": [
    "np.std([178,177,176,177,178.2,178,175,179,180,175,178.9,176.2,177,172.5,178,176.5])"
   ]
  },
  {
   "cell_type": "markdown",
   "id": "6ead944d-04c7-46da-803f-bdc59440eedc",
   "metadata": {},
   "source": [
    "Q5. How are measures of dispersion such as range, variance, and standard deviation used to describe\n",
    "the spread of a dataset? Provide an example."
   ]
  },
  {
   "cell_type": "markdown",
   "id": "31ac88fb-35c5-4481-8f39-b8d6a2311861",
   "metadata": {},
   "source": [
    "Measures of dispersion such as range, variance, and standard deviation are used to describe the spread or variability of a dataset. They provide information about how the data is distributed around the central tendency (mean, median, or mode) of the dataset.\n",
    "\n",
    "- **Range** is the difference between the largest and smallest data points in a set. It is easy to calculate and provides a basic measure of the spread of the data.\n",
    "- **Variance** is the average squared deviation from the mean of the given data set. It measures the spread of the data about the mean.\n",
    "- **Standard deviation** is the square root of the variance. It measures how spread out the data is from its mean.\n",
    "\n",
    "For example, let's say we have two datasets: A = [1, 2, 3, 4, 5] and B = [1, 3, 5, 7, 9]. Both datasets have the same mean (3), but their measures of dispersion are different:\n",
    "- The range of dataset A is 5 - 1 = 4, while the range of dataset B is 9 - 1 = 8.\n",
    "- The variance of dataset A is (1 + 1 + 0 + 1 + 1)/5 = 0.8, while the variance of dataset B is (4 + 1 + 0 + 1 + 4)/5 = 2.\n",
    "- The standard deviation of dataset A is sqrt(0.8) ≈ 0.89, while the standard deviation of dataset B is sqrt(2) ≈ 1.41.\n",
    "\n",
    "This shows that although both datasets have the same mean, dataset B has a larger spread than dataset A. This information can be useful when comparing datasets or when analyzing data."
   ]
  },
  {
   "cell_type": "markdown",
   "id": "b90837b0-3cda-4793-85f7-c6f02a6d3ff0",
   "metadata": {},
   "source": [
    "Q6. What is a Venn diagram?"
   ]
  },
  {
   "cell_type": "markdown",
   "id": "423e4904-5521-4d67-bb3e-8fab524efc25",
   "metadata": {},
   "source": [
    "A Venn diagram is a visual tool used to compare and contrast two or more objects, events, people, or concepts."
   ]
  },
  {
   "cell_type": "markdown",
   "id": "a9ad7388-7098-455a-b5d3-c1774ba9edea",
   "metadata": {},
   "source": [
    "Q7. For the two given sets A = (2,3,4,5,6,7) & B = (0,2,6,8,10). Find:\n",
    "(i) A B\n",
    "(ii) A ⋃ B"
   ]
  },
  {
   "cell_type": "markdown",
   "id": "53d2fa40-c9a9-4df1-9338-fa8bebcbb63a",
   "metadata": {},
   "source": [
    "A ∩ B = (2,6)\n",
    "\n",
    "A ⋃ B = (0,2,3,4,5,6,7,8,10)"
   ]
  },
  {
   "cell_type": "markdown",
   "id": "f8a8808d-5524-42bc-8e2c-776281a95d37",
   "metadata": {},
   "source": [
    "Q8. What do you understand about skewness in data?"
   ]
  },
  {
   "cell_type": "markdown",
   "id": "4e434db6-0f5d-4260-99c4-9a99049154d6",
   "metadata": {},
   "source": [
    "Skewness is how much the data set deviates from its normal distribution. "
   ]
  },
  {
   "cell_type": "markdown",
   "id": "4bc0a784-5849-464c-ac00-b87080187e53",
   "metadata": {},
   "source": [
    "Q9. If a data is right skewed then what will be the position of median with respect to mean?"
   ]
  },
  {
   "cell_type": "markdown",
   "id": "73c51343-0ea1-41dd-a389-ce57cf86f237",
   "metadata": {},
   "source": [
    "If a data is right skewed, then the median will be to the left of the mean."
   ]
  },
  {
   "cell_type": "markdown",
   "id": "70792ba7-7161-4013-beed-5ede0c5eda0a",
   "metadata": {},
   "source": [
    "Q10. Explain the difference between covariance and correlation. How are these measures used in\n",
    "statistical analysis?"
   ]
  },
  {
   "cell_type": "markdown",
   "id": "64535e92-4fac-4b70-bda9-8a0f8fa719b8",
   "metadata": {},
   "source": [
    "Covariance is a measure of how much two random variables vary together. It can take any value between negative infinity and positive infinity, where a negative value represents a negative relationship and a positive value represents a positive relationship. Covariance gives us the direction of the relationship between two variables.\n",
    "\n",
    "Correlation is a statistical measure that indicates how strongly two variables are related. Correlation values range from -1 to +1, where values close to +1 represent strong positive correlation and values close to -1 represent strong negative correlation. Correlation provides an indication as to how strong the relationship between the two variables is, in addition to the direction of correlated variables.\n",
    "\n",
    "In statistical analysis, covariance and correlation are used to find relationships between variables. Finding relationships between variables helps us to deduce meaningful insights that can help organizations make better-informed decisions. For instance, we can use covariance and correlation to determine if there is a relationship between coronavirus strength and the immune status of a person or if there is a relationship between tax rates and economic growth of a state."
   ]
  },
  {
   "cell_type": "markdown",
   "id": "4b71ad80-4121-44d3-a7a3-6ac42bb960cd",
   "metadata": {},
   "source": [
    "Q11. What is the formula for calculating the sample mean? Provide an example calculation for a\n",
    "dataset."
   ]
  },
  {
   "cell_type": "markdown",
   "id": "698d4e98-6577-40b8-881d-71bba66d9efa",
   "metadata": {},
   "source": [
    "X̄ = (Σ xi) / n (i = 0 to n)\n",
    "\n",
    "Here’s an example calculation for a dataset:\n",
    "\n",
    "Let’s say we have a dataset with 5 observations: 2, 4, 6, 8, and 10.\n",
    "\n",
    "To calculate the sample mean, we add up all the observations (2 + 4 + 6 + 8 + 10 = 30) and divide by the number of observations (5). So, the sample mean for this dataset is 30/5 = 6."
   ]
  },
  {
   "cell_type": "markdown",
   "id": "c5cb253b-1979-431b-845b-3f6b53ae3317",
   "metadata": {},
   "source": [
    "Q12. For a normal distribution data what is the relationship between its measure of central tendency?"
   ]
  },
  {
   "cell_type": "markdown",
   "id": "969cbd45-55f6-4efb-bfec-b5ee76083bda",
   "metadata": {},
   "source": [
    "The mean, mode and median are exactly the same in a normal distribution."
   ]
  },
  {
   "cell_type": "markdown",
   "id": "7dbcffa5-b0b7-492f-be4f-b458c42bde12",
   "metadata": {},
   "source": [
    "Q13. How is covariance different from correlation?"
   ]
  },
  {
   "cell_type": "markdown",
   "id": "8deb3876-cd2c-4d0e-b652-6fff6ce38eda",
   "metadata": {},
   "source": [
    "Covariance tells us the direction of the relationship between two variables, while correlation provides an indication as to how strong the relationship between the two variables is, in addition to the direction of correlated variables"
   ]
  },
  {
   "cell_type": "markdown",
   "id": "ff1372a3-80cf-44a3-8735-3d19568b5612",
   "metadata": {},
   "source": [
    "Q14. How do outliers affect measures of central tendency and dispersion? Provide an example."
   ]
  },
  {
   "cell_type": "markdown",
   "id": "3aa6086c-ef5a-408c-8e1b-478fe0ef18e5",
   "metadata": {},
   "source": [
    "Outliers are extreme values that differ significantly from other observations in a dataset. They can have a significant impact on measures of central tendency and dispersion.\n",
    "\n",
    "Outliers are extreme values that differ significantly from other observations in a dataset. They can have a significant impact on measures of central tendency and dispersion.\n",
    "\n",
    "For example, consider a dataset of 10 observations: 2, 3, 4, 5, 6, 7, 8, 9, 10, and 100. The mean of this dataset is (2+3+4+5+6+7+8+9+10+100)/10 = 15.4. However, if we remove the outlier value of 100, the mean becomes (2+3+4+5+6+7+8+9+10)/9 = 6. This shows that the presence of an outlier can significantly increase the mean.\n",
    "\n",
    "Similarly, the presence of outliers can also affect measures of dispersion such as the range and standard deviation. In the above example, the range with the outlier is (100-2) = 98, while the range without the outlier is (10-2) = 8. The standard deviation with the outlier is approximately 30.8, while the standard deviation without the outlier is approximately 2.6."
   ]
  }
 ],
 "metadata": {
  "kernelspec": {
   "display_name": "Python 3 (ipykernel)",
   "language": "python",
   "name": "python3"
  },
  "language_info": {
   "codemirror_mode": {
    "name": "ipython",
    "version": 3
   },
   "file_extension": ".py",
   "mimetype": "text/x-python",
   "name": "python",
   "nbconvert_exporter": "python",
   "pygments_lexer": "ipython3",
   "version": "3.10.8"
  }
 },
 "nbformat": 4,
 "nbformat_minor": 5
}
