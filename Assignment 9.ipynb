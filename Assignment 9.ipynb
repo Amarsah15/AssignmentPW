{
 "cells": [
  {
   "cell_type": "markdown",
   "id": "7cd9fadd-f143-4561-a6d2-8bdfd693542e",
   "metadata": {},
   "source": [
    "Q1. What is Abstraction in OOps? Explain with an example."
   ]
  },
  {
   "cell_type": "markdown",
   "id": "e37fbd9a-f042-4c99-b394-8699987e033a",
   "metadata": {},
   "source": [
    "Abstraction is a fundamental concept in Object-Oriented Programming (OOP) that focuses on providing a simplified representation of complex systems by hiding unnecessary implementation details and exposing only the relevant features. It allows us to create abstract classes and interfaces that define a blueprint for objects without specifying their full implementation."
   ]
  },
  {
   "cell_type": "code",
   "execution_count": 1,
   "id": "bc04d54e-f83e-4e04-ae0f-7ff7ef29ed71",
   "metadata": {},
   "outputs": [],
   "source": [
    "import abc\n",
    "\n",
    "class Shape:\n",
    "    @abc.abstractmethod\n",
    "    def calculate_area(self):\n",
    "        pass\n",
    "    @abc.abstractmethod\n",
    "    def calculate_perimeter(self):\n",
    "        pass\n",
    "\n",
    "\n",
    "class circle(Shape):\n",
    "    def __init__(self, radius):\n",
    "        self.radius = radius\n",
    "\n",
    "    def calculate_area(self):\n",
    "        return 3.14 * self.radius ** 2\n",
    "\n",
    "    def calculate_perimeter(self):\n",
    "        return 2 * 3.14 * self.radius\n",
    "\n",
    "\n",
    "class square(Shape):\n",
    "    def __init__(self, side):\n",
    "        self.side = side\n",
    "\n",
    "    def calculate_area(self):\n",
    "        return self.side ** 2\n",
    "\n",
    "    def calculate_perimeter(self):\n",
    "        return 4 * self.side\n"
   ]
  },
  {
   "cell_type": "code",
   "execution_count": 2,
   "id": "62a0147b-496d-42b9-a207-00bd2a71c2a9",
   "metadata": {},
   "outputs": [],
   "source": [
    "c=circle(5)"
   ]
  },
  {
   "cell_type": "code",
   "execution_count": 3,
   "id": "863d38b6-c30c-4fe8-b940-d548498a54e9",
   "metadata": {},
   "outputs": [
    {
     "data": {
      "text/plain": [
       "78.5"
      ]
     },
     "execution_count": 3,
     "metadata": {},
     "output_type": "execute_result"
    }
   ],
   "source": [
    "c.calculate_area()"
   ]
  },
  {
   "cell_type": "code",
   "execution_count": 4,
   "id": "40707a9d-34cd-4097-bf52-1f23592bdf9f",
   "metadata": {},
   "outputs": [
    {
     "data": {
      "text/plain": [
       "31.400000000000002"
      ]
     },
     "execution_count": 4,
     "metadata": {},
     "output_type": "execute_result"
    }
   ],
   "source": [
    "c.calculate_perimeter()"
   ]
  },
  {
   "cell_type": "code",
   "execution_count": 5,
   "id": "98e60432-2ba9-4f6c-b937-dab91920d8f1",
   "metadata": {},
   "outputs": [],
   "source": [
    "s=square(5)"
   ]
  },
  {
   "cell_type": "code",
   "execution_count": 6,
   "id": "9ae2d2b7-58e5-4497-958f-556c78bddaec",
   "metadata": {},
   "outputs": [
    {
     "data": {
      "text/plain": [
       "25"
      ]
     },
     "execution_count": 6,
     "metadata": {},
     "output_type": "execute_result"
    }
   ],
   "source": [
    "s.calculate_area()"
   ]
  },
  {
   "cell_type": "code",
   "execution_count": 7,
   "id": "1c6ed289-d6b0-4f79-9eed-53c89846c63a",
   "metadata": {},
   "outputs": [
    {
     "data": {
      "text/plain": [
       "20"
      ]
     },
     "execution_count": 7,
     "metadata": {},
     "output_type": "execute_result"
    }
   ],
   "source": [
    "s.calculate_perimeter()"
   ]
  },
  {
   "cell_type": "markdown",
   "id": "18d95f6d-4614-4774-842f-d5aa3fb3b558",
   "metadata": {},
   "source": [
    "In this example, the Shape class is an abstract class because it contains methods (calculate_area and calculate_perimeter) without providing any implementation for them. The idea is to define a common interface for all shapes without getting into the specifics of individual shapes.\n",
    "\n",
    "On the other hand, the Circle and Square classes are concrete classes. They inherit from the abstract Shape class and provide their specific implementations of the calculate_area and calculate_perimeter methods.\n",
    "\n",
    "By using abstraction, we can treat all shapes in a unified manner through the common Shape interface without worrying about the internal details of each shape. This improves code organization, maintainability, and allows us to add more shapes in the future without altering the existing code that uses the Shape interface."
   ]
  },
  {
   "cell_type": "markdown",
   "id": "7009f945-351d-4c91-b6ad-845232951fcf",
   "metadata": {},
   "source": [
    "Q2. Differentiate between Abstraction and Encapsulation. Explain with an example."
   ]
  },
  {
   "cell_type": "markdown",
   "id": "eda21984-edda-4efd-8709-4b343e4e8dbe",
   "metadata": {},
   "source": [
    "Abstraction:\n",
    "Abstraction is the process of representing the essential features of an object or system while hiding the unnecessary details. It allows you to focus on the high-level characteristics and behavior of an object, rather than its implementation specifics. Abstraction enables developers to create simplified models that are easier to understand and work with, promoting modularity and reusability.\n",
    "\n",
    "Example of Abstraction:\n",
    "Consider a simple example of a vehicle. The concept of a vehicle can be abstracted by defining its essential characteristics and behaviors, such as \"start engine,\" \"accelerate,\" and \"stop.\" We don't need to know the internal details of how the engine works or how the tires are made for using a vehicle."
   ]
  },
  {
   "cell_type": "markdown",
   "id": "adcbc613-faa2-4a17-8c5c-512e8e78b867",
   "metadata": {},
   "source": [
    "Encapsulation: Encapsulation is the concept of bundling data (attributes) and methods (functions) that operate on that data into a class. It hides the internal details of an object's implementation from the outside world, and the external code can only interact with the object through its well-defined interface."
   ]
  },
  {
   "cell_type": "markdown",
   "id": "11f753e7-538e-4917-aace-0ca73d2cc0cc",
   "metadata": {},
   "source": [
    "Example of Encapsulation:"
   ]
  },
  {
   "cell_type": "code",
   "execution_count": 8,
   "id": "51604e7c-73a9-4b86-9802-8f46c2b7fea2",
   "metadata": {},
   "outputs": [],
   "source": [
    "class Vehicle:\n",
    "    def __init__(self, model):\n",
    "        self.__model = model\n",
    "        self.__speed = 100\n",
    "\n",
    "    def start_engine(self):\n",
    "        print(\"Engine started.\")\n",
    "\n",
    "    def accelerate(self, amount):\n",
    "        self.__speed += amount\n",
    "        print(f\"Accelerating. Current speed: {self.__speed} km/h\")\n",
    "\n",
    "    def stop(self):\n",
    "        self.__speed = 0\n",
    "        print(\"Vehicle stopped.\")"
   ]
  },
  {
   "cell_type": "code",
   "execution_count": 9,
   "id": "d07bb3c3-2c70-42c4-999a-6a192456147c",
   "metadata": {},
   "outputs": [],
   "source": [
    "toyota=Vehicle(\"toyota\")"
   ]
  },
  {
   "cell_type": "code",
   "execution_count": 10,
   "id": "eefb40c2-7949-4be0-862f-fa1eb6b1196b",
   "metadata": {},
   "outputs": [
    {
     "name": "stdout",
     "output_type": "stream",
     "text": [
      "Engine started.\n"
     ]
    }
   ],
   "source": [
    "toyota.start_engine()"
   ]
  },
  {
   "cell_type": "code",
   "execution_count": 11,
   "id": "b8ad21b0-b97e-41d5-a8f1-e97fea85b391",
   "metadata": {},
   "outputs": [
    {
     "name": "stdout",
     "output_type": "stream",
     "text": [
      "Accelerating. Current speed: 120 km/h\n"
     ]
    }
   ],
   "source": [
    "toyota.accelerate(20)"
   ]
  },
  {
   "cell_type": "code",
   "execution_count": 12,
   "id": "6e46b749-ea43-47f5-8820-805febd8757d",
   "metadata": {},
   "outputs": [
    {
     "name": "stdout",
     "output_type": "stream",
     "text": [
      "Vehicle stopped.\n"
     ]
    }
   ],
   "source": [
    "toyota.stop()"
   ]
  },
  {
   "cell_type": "markdown",
   "id": "21f47456-69d1-4829-9af2-cf6000bd8701",
   "metadata": {},
   "source": [
    "Q3. What is abc module in python? Why is it used?"
   ]
  },
  {
   "cell_type": "markdown",
   "id": "18c195e7-9cea-4343-8204-2d916142fa11",
   "metadata": {},
   "source": [
    "In Python, the abc module stands for \"Abstract Base Classes.\" It is a module that provides support for defining abstract base classes and abstract methods. Abstract base classes allow you to define a common interface for a group of related classes, ensuring that certain methods are implemented in the derived classes.\n",
    "\n",
    "The main purpose of the abc module is to promote a concept known as \"ABCs\" or \"interfaces.\" ABCs are meant to serve as a blueprint for other classes to follow. They define a set of methods that must be implemented by their subclasses, enforcing a specific structure in derived classes.\n",
    "\n",
    "The abc module is used for the following reasons:\n",
    "\n",
    "Enforcing Contracts: By defining abstract methods in a base class, you can enforce that derived classes provide implementations for these methods. This helps in defining a contract that derived classes must follow.\n",
    "\n",
    "Code Organization: Abstract base classes help in organizing code by grouping related classes under a common interface. This enhances code readability and maintainability.\n",
    "\n",
    "Polymorphism: By adhering to the same interface defined by the abstract base class, objects of different concrete classes can be used interchangeably, promoting polymorphism.\n",
    "\n",
    "Documentation: Abstract base classes serve as documentation for derived classes, indicating what methods must be implemented to ensure proper functionality."
   ]
  },
  {
   "cell_type": "markdown",
   "id": "836495d9-7dee-4aa7-b18d-40787a37eb8f",
   "metadata": {},
   "source": [
    "Q4. How can we achieve data abstraction?"
   ]
  },
  {
   "cell_type": "code",
   "execution_count": 13,
   "id": "cec3e19a-8c28-4cca-b480-07388fa31d52",
   "metadata": {},
   "outputs": [
    {
     "name": "stdout",
     "output_type": "stream",
     "text": [
      "10\n",
      "False\n"
     ]
    }
   ],
   "source": [
    "from abc import ABC, abstractmethod\n",
    "\n",
    "class AbstractStack(ABC):\n",
    "    @abstractmethod\n",
    "    def push(self, item):\n",
    "        pass\n",
    "\n",
    "    @abstractmethod\n",
    "    def pop(self):\n",
    "        pass\n",
    "\n",
    "    @abstractmethod\n",
    "    def is_empty(self):\n",
    "        pass\n",
    "\n",
    "class Stack(AbstractStack):\n",
    "    def __init__(self):\n",
    "        self.stack_list = []\n",
    "\n",
    "    def push(self, item):\n",
    "        self.stack_list.append(item)\n",
    "\n",
    "    def pop(self):\n",
    "        if not self.is_empty():\n",
    "            return self.stack_list.pop()\n",
    "\n",
    "    def is_empty(self):\n",
    "        return len(self.stack_list) == 0\n",
    "\n",
    "\n",
    "stack = Stack()\n",
    "stack.push(5)\n",
    "stack.push(10)\n",
    "print(stack.pop())  \n",
    "print(stack.is_empty())  "
   ]
  },
  {
   "cell_type": "markdown",
   "id": "a570a980-0ad0-4248-a5e8-550a2c32dea4",
   "metadata": {},
   "source": [
    "Data abstraction is achieved by creating an abstract base class AbstractStack, which defines the interface for a stack data structure. It declares abstract methods push, pop, and is_empty. Abstract methods have no implementation and must be overridden in the derived class (Stack).\n",
    "\n",
    "We create a Stack object and use the methods push, pop, and is_empty to interact with the stack. Users don't need to know the details of the underlying list-based implementation; they only need to work with the abstract methods provided. This achieves data abstraction."
   ]
  },
  {
   "cell_type": "markdown",
   "id": "0cab2396-a80b-4cc1-b8c5-e65c1047354c",
   "metadata": {},
   "source": [
    "Q5. Can we create an instance of an abstract class? Explain your answer."
   ]
  },
  {
   "cell_type": "markdown",
   "id": "e5e06633-7ea1-4b96-844f-b52ced26ef04",
   "metadata": {},
   "source": [
    "No, we cannot create an instance of an abstract class in Python. Abstract classes are meant to serve as blueprints for other classes and are not intended to be instantiated directly."
   ]
  }
 ],
 "metadata": {
  "kernelspec": {
   "display_name": "Python 3 (ipykernel)",
   "language": "python",
   "name": "python3"
  },
  "language_info": {
   "codemirror_mode": {
    "name": "ipython",
    "version": 3
   },
   "file_extension": ".py",
   "mimetype": "text/x-python",
   "name": "python",
   "nbconvert_exporter": "python",
   "pygments_lexer": "ipython3",
   "version": "3.10.8"
  },
  "toc-autonumbering": false,
  "toc-showcode": false,
  "toc-showmarkdowntxt": false
 },
 "nbformat": 4,
 "nbformat_minor": 5
}
