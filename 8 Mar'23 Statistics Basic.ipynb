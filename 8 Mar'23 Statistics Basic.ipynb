{
 "cells": [
  {
   "cell_type": "markdown",
   "id": "8da13840-8883-470a-9a7e-e2816b9fb2ef",
   "metadata": {},
   "source": [
    "Q1. What is the Probability density function?"
   ]
  },
  {
   "cell_type": "markdown",
   "id": "052a7e60-18de-474b-9557-0330b30d8d51",
   "metadata": {},
   "source": [
    "The Probability Density Function(PDF) defines the probability function representing the density of a continuous random variable lying between a specific range of values"
   ]
  },
  {
   "cell_type": "markdown",
   "id": "392b61da-21fc-4bf0-ab43-1a44c17f21a9",
   "metadata": {},
   "source": [
    "Q2. What are the types of Probability distribution?"
   ]
  },
  {
   "cell_type": "markdown",
   "id": "187204d5-1086-45c0-b5b5-1e601e1c9ec4",
   "metadata": {},
   "source": [
    " 1. Bernaulli distribution\n",
    " 2. Binomial distribution \n",
    " 3. Poisson distribution \n",
    " 4. Uniform distribution\n",
    " 5. Normal or Gaussian distribution\n",
    " 6. Log Normal distribution"
   ]
  },
  {
   "cell_type": "markdown",
   "id": "3c7b0861-cf89-447a-ae25-7af973b27927",
   "metadata": {},
   "source": [
    "Q3. Write a Python function to calculate the probability density function of a normal distribution with\n",
    "given mean and standard deviation at a given point."
   ]
  },
  {
   "cell_type": "code",
   "execution_count": 1,
   "id": "a49b2aba-e650-4a1a-8357-9eb0e6b26a91",
   "metadata": {},
   "outputs": [
    {
     "data": {
      "text/plain": [
       "0.17603266338214976"
      ]
     },
     "execution_count": 1,
     "metadata": {},
     "output_type": "execute_result"
    }
   ],
   "source": [
    "from math import sqrt, pi, exp\n",
    "\n",
    "def normal_pdf(x: float, mean: float, std_dev: float) -> float:\n",
    "    return (1 / (std_dev * sqrt(2 * pi))) * exp(-0.5 * ((x - mean) / std_dev) ** 2)\n",
    "\n",
    "normal_pdf(3,4,2)"
   ]
  },
  {
   "cell_type": "markdown",
   "id": "e9663bbc-01c7-44b8-a1ca-371787687411",
   "metadata": {},
   "source": [
    "Q4. What are the properties of Binomial distribution? Give two examples of events where binomial\n",
    "distribution can be applied."
   ]
  },
  {
   "cell_type": "markdown",
   "id": "7d534111-0bf7-4baf-ab69-0a014d874e37",
   "metadata": {},
   "source": [
    "1. The binomial distribution is a discrete probability distribution\n",
    "2. There are only two possible outcomes: success or failure.\n",
    "3. There is a fixed number of independent trials.\n",
    "4. The probability of success remains the same for each trial.\n",
    "\n",
    "Examples : \n",
    "1. Tossing a coin 10 times.\n",
    "2. Taking a multiple-choice test."
   ]
  },
  {
   "cell_type": "markdown",
   "id": "3f066d71-0716-4853-b062-14cce08f3d78",
   "metadata": {},
   "source": [
    "Q5. Generate a random sample of size 1000 from a binomial distribution with probability of success 0.4\n",
    "and plot a histogram of the results using matplotlib."
   ]
  },
  {
   "cell_type": "code",
   "execution_count": 2,
   "id": "2eb13bfe-8956-4ee0-a5c7-783f1a7566b2",
   "metadata": {},
   "outputs": [
    {
     "data": {
      "image/png": "[encoded data removed]",
      "text/plain": [
       "<Figure size 640x480 with 1 Axes>"
      ]
     },
     "metadata": {},
     "output_type": "display_data"
    }
   ],
   "source": [
    "import numpy as np\n",
    "import matplotlib.pyplot as plt\n",
    "\n",
    "random_variable = np.random.binomial(10,0.4,size = 1000)\n",
    "\n",
    "plt.hist(random_variable, bins=10)\n",
    "plt.show()"
   ]
  },
  {
   "cell_type": "markdown",
   "id": "b7d85f57-9b74-45a7-a1fd-d726809d3832",
   "metadata": {},
   "source": [
    "Q6. Write a Python function to calculate the cumulative distribution function of a Poisson distribution\n",
    "with given mean at a given point."
   ]
  },
  {
   "cell_type": "code",
   "execution_count": 3,
   "id": "9feb42ae-f565-418c-a319-abff01959943",
   "metadata": {},
   "outputs": [
    {
     "data": {
      "text/plain": [
       "0.42319008112684353"
      ]
     },
     "execution_count": 3,
     "metadata": {},
     "output_type": "execute_result"
    }
   ],
   "source": [
    "from math import exp, factorial\n",
    "\n",
    "def poisson_cdf(mean, k):\n",
    "    cdf = 0\n",
    "    for i in range(k + 1):\n",
    "        cdf += (mean ** i) * exp(-mean) / factorial(i)\n",
    "    return cdf\n",
    "\n",
    "poisson_cdf(3,2)"
   ]
  },
  {
   "cell_type": "markdown",
   "id": "8631f6e8-da48-4acc-aeca-024e4df8ef8c",
   "metadata": {},
   "source": [
    "Q7. How Binomial distribution different from Poisson distribution?"
   ]
  },
  {
   "cell_type": "markdown",
   "id": "72186167-c092-42ba-9da4-568590825545",
   "metadata": {},
   "source": [
    "In a Binomial distribution, there is a fixed number of trials (e.g. flip a coin 3 times), while in a Poisson distribution, there could be any number of events that occur during a certain time interval.\n",
    "\n",
    "In a Binomial distribution, the probability of success on a given trial is constant, while in a Poisson distribution, the chance of success is infinitesimal.\n",
    "\n",
    "A Binomial distribution has only two possible outcomes (success or failure), while a Poisson distribution has an unlimited number of possible outcomes."
   ]
  },
  {
   "cell_type": "markdown",
   "id": "e5f20f65-e6f3-4212-a947-05e55ecb3081",
   "metadata": {},
   "source": [
    "Q8. Generate a random sample of size 1000 from a Poisson distribution with mean 5 and calculate the\n",
    "sample mean and variance."
   ]
  },
  {
   "cell_type": "code",
   "execution_count": 4,
   "id": "423e4410-519d-4c28-9261-b95e6ba7f2a0",
   "metadata": {},
   "outputs": [
    {
     "name": "stdout",
     "output_type": "stream",
     "text": [
      "Sample mean: 5.0850\n",
      "Sample variance: 5.4318\n"
     ]
    }
   ],
   "source": [
    "import numpy as np\n",
    "\n",
    "random_variable = np.random.poisson(5,1000)\n",
    "sample_mean = np.mean(random_variable)\n",
    "sample_var = np.var(random_variable)\n",
    "\n",
    "print(f'Sample mean: {sample_mean:.4f}')\n",
    "print(f'Sample variance: {sample_var:.4f}')"
   ]
  },
  {
   "cell_type": "markdown",
   "id": "5680662f-1f3e-480e-98fc-f35be7cb04e9",
   "metadata": {},
   "source": [
    "Q9. How mean and variance are related in Binomial distribution and Poisson distribution?"
   ]
  },
  {
   "cell_type": "markdown",
   "id": "781ab002-8f3e-46e1-9be1-321e6553c928",
   "metadata": {},
   "source": [
    "The mean and variance are related in both the Binomial distribution and the Poisson distribution. In a Binomial distribution, the mean is equal to np where n is the number of trials and p is the probability of success on a single trial. The variance is equal to np(1-p).\n",
    "\n",
    "In a Poisson distribution, the mean and variance are both equal to λ, where λ is the expected number of events occurring within a given interval of time."
   ]
  },
  {
   "cell_type": "markdown",
   "id": "43ce14b5-bc9a-4e11-b5bc-49c9e57de5b7",
   "metadata": {},
   "source": [
    "Q10. In normal distribution with respect to mean position, where does the least frequent data appear?"
   ]
  },
  {
   "cell_type": "markdown",
   "id": "98ffde0f-9c15-4fd5-98fc-59a57c6452ac",
   "metadata": {},
   "source": [
    "In a normal distribution, the least frequent data appears at the tails of the distribution."
   ]
  }
 ],
 "metadata": {
  "kernelspec": {
   "display_name": "Python 3 (ipykernel)",
   "language": "python",
   "name": "python3"
  },
  "language_info": {
   "codemirror_mode": {
    "name": "ipython",
    "version": 3
   },
   "file_extension": ".py",
   "mimetype": "text/x-python",
   "name": "python",
   "nbconvert_exporter": "python",
   "pygments_lexer": "ipython3",
   "version": "3.10.8"
  }
 },
 "nbformat": 4,
 "nbformat_minor": 5
}
