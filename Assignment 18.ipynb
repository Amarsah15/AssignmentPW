{
 "cells": [
  {
   "cell_type": "markdown",
   "id": "a15cdc81-883c-4794-9769-f41e4d4e836f",
   "metadata": {},
   "source": [
    "Q1. What is Flask Framework? What are the advantages of Flask Framework?"
   ]
  },
  {
   "cell_type": "markdown",
   "id": "e4f92bf8-2716-4c89-b46f-91673c3e4bab",
   "metadata": {},
   "source": [
    "Flask is a python web framework that is used for developing web applications.\n",
    "\n",
    "Some of the advantages of Flask Framework include:\n",
    "\n",
    "1. Flask is a flexible Framework because it allows you to customize and extend the framework to suit your needs easily.\n",
    "2. Flask is highly scalable for simple applications.\n",
    "3. Routing URL is easy.\n",
    "4. Flask has higher compatibility with latest technologies."
   ]
  },
  {
   "cell_type": "markdown",
   "id": "00010b11-ba29-4ebb-9966-17e09f653b4e",
   "metadata": {},
   "source": [
    "Q2. Create a simple Flask application to display ‘Hello World!!’. Attach the screenshot of the output in\n",
    "Jupyter Notebook."
   ]
  },
  {
   "cell_type": "code",
   "execution_count": null,
   "id": "7bb0f876-b976-48d1-a213-d7d621cd51a1",
   "metadata": {},
   "outputs": [],
   "source": [
    "from flask import Flask\n",
    "\n",
    "app = Flask(__name__)\n",
    "\n",
    "@app.route(\"/\")\n",
    "def hello_world():\n",
    "    return \"<h1>Hello, World!!</h1>\"\n",
    "\n",
    "if __name__==\"__main__\":\n",
    "    app.run(host=\"0.0.0.0\")"
   ]
  },
  {
   "cell_type": "code",
   "execution_count": 1,
   "id": "288df746-2244-41a4-8caa-89a4d98d917f",
   "metadata": {},
   "outputs": [
    {
     "data": {
      "text/html": [
       "<img src=\"SS.png\" width=\"300\" height=\"300\"/>"
      ],
      "text/plain": [
       "<IPython.core.display.Image object>"
      ]
     },
     "execution_count": 1,
     "metadata": {},
     "output_type": "execute_result"
    }
   ],
   "source": [
    "# import image module\n",
    "from IPython.display import Image\n",
    "\n",
    "# get the image\n",
    "Image(url=\"SS.png\", width=300, height=300)"
   ]
  },
  {
   "cell_type": "markdown",
   "id": "8ec99bb9-17fc-4b2b-bef6-6aa5070adda3",
   "metadata": {},
   "source": [
    "Q3. What is App routing in Flask? Why do we use app routes?"
   ]
  },
  {
   "cell_type": "markdown",
   "id": "bd673b44-dd64-472f-b990-c6bcd4375ce7",
   "metadata": {},
   "source": [
    "App Routing means mapping the URLs to a specific function that will handle the logic for that URL.\n",
    "\n",
    "To bind a function to an URL path we use the app.route decorator."
   ]
  },
  {
   "cell_type": "markdown",
   "id": "95e04a52-f3fd-4e34-9991-66f2f8bfb77b",
   "metadata": {},
   "source": [
    "Q4. Create a “/welcome” route to display the welcome message “Welcome to ABC Corporation” and a “/”\n",
    "route to show the following details:\n",
    "Company Name: ABC Corporation\n",
    "Location: India\n",
    "Contact Detail: 999-999-9999"
   ]
  },
  {
   "cell_type": "code",
   "execution_count": 2,
   "id": "a4a62e3c-77bb-48ce-86ca-deb8526bdd68",
   "metadata": {},
   "outputs": [
    {
     "data": {
      "text/html": [
       "<img src=\"ss2.png\" width=\"300\" height=\"300\"/>"
      ],
      "text/plain": [
       "<IPython.core.display.Image object>"
      ]
     },
     "execution_count": 2,
     "metadata": {},
     "output_type": "execute_result"
    }
   ],
   "source": [
    "# import image module\n",
    "from IPython.display import Image\n",
    "\n",
    "# get the image\n",
    "Image(url=\"ss2.png\", width=300, height=300)"
   ]
  },
  {
   "cell_type": "code",
   "execution_count": 3,
   "id": "20bc96a3-f421-471d-ad93-5787550b3ac2",
   "metadata": {},
   "outputs": [
    {
     "data": {
      "text/html": [
       "<img src=\"ss1.png\" width=\"300\" height=\"300\"/>"
      ],
      "text/plain": [
       "<IPython.core.display.Image object>"
      ]
     },
     "execution_count": 3,
     "metadata": {},
     "output_type": "execute_result"
    }
   ],
   "source": [
    "# import image module\n",
    "from IPython.display import Image\n",
    "\n",
    "# get the image\n",
    "Image(url=\"ss1.png\", width=300, height=300)"
   ]
  },
  {
   "cell_type": "markdown",
   "id": "5e88c265-fe14-46cf-8c7c-0889a1fb2065",
   "metadata": {},
   "source": [
    "Q5. What function is used in Flask for URL Building? Write a Python code to demonstrate the working of the\n",
    "url_for() function."
   ]
  },
  {
   "cell_type": "markdown",
   "id": "c35c8c6a-d2e4-446f-ac91-2e3766534da6",
   "metadata": {},
   "source": [
    "The url_for() function is used in Flask for URL building. It is used to prepare a URL for a function dynamically, such that changing URLs in the application is avoided. "
   ]
  },
  {
   "cell_type": "code",
   "execution_count": null,
   "id": "74be81f6-3b55-4a54-903e-32d13d9710fc",
   "metadata": {},
   "outputs": [],
   "source": [
    "from flask import Flask,redirect,url_for\n",
    "\n",
    "app = Flask(__name__)\n",
    "\n",
    "@app.route(\"/\")\n",
    "def welcome():\n",
    "    return \"Welcome to my page\"\n",
    "\n",
    "@app.route(\"/success/<int:score>\")\n",
    "def success(score):\n",
    "    return \"The person hass passed and the marks is \"+ str(score)\n",
    "\n",
    "@app.route(\"/fail/<int:score>\")\n",
    "def fail(score):\n",
    "    return \"The person hass failed and the marks is \"+ str(score)\n",
    "\n",
    "@app.route(\"/results/<int:marks>\")\n",
    "def results(marks):\n",
    "    result=\"\"\n",
    "    if  marks < 33 :\n",
    "        result='fail'\n",
    "    else :\n",
    "        result='success'\n",
    "    return redirect(url_for(result,score=marks))\n",
    "\n",
    "if __name__==\"__main__\":\n",
    "    app.run(host=\"0.0.0.0\")"
   ]
  }
 ],
 "metadata": {
  "kernelspec": {
   "display_name": "Python 3 (ipykernel)",
   "language": "python",
   "name": "python3"
  },
  "language_info": {
   "codemirror_mode": {
    "name": "ipython",
    "version": 3
   },
   "file_extension": ".py",
   "mimetype": "text/x-python",
   "name": "python",
   "nbconvert_exporter": "python",
   "pygments_lexer": "ipython3",
   "version": "3.10.8"
  }
 },
 "nbformat": 4,
 "nbformat_minor": 5
}
