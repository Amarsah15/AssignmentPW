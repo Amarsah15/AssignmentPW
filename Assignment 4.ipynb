{
 "cells": [
  {
   "cell_type": "markdown",
   "id": "f7e89905-a60e-4031-843d-c8bfe2d159ee",
   "metadata": {},
   "source": [
    "Q1. Which keyword is used to create a function? Create a function to return a list of odd numbers in the\n",
    "range of 1 to 25."
   ]
  },
  {
   "cell_type": "markdown",
   "id": "504b8979-84b2-42da-811b-ab4713e9f232",
   "metadata": {},
   "source": [
    "The def keyword is used to create a function."
   ]
  },
  {
   "cell_type": "code",
   "execution_count": 1,
   "id": "a511de27-fe02-46ee-b590-e0b56c04b278",
   "metadata": {},
   "outputs": [
    {
     "data": {
      "text/plain": [
       "[1, 3, 5, 7, 9, 11, 13, 15, 17, 19, 21, 23, 25]"
      ]
     },
     "execution_count": 1,
     "metadata": {},
     "output_type": "execute_result"
    }
   ],
   "source": [
    "def odd_number():\n",
    "    list_odd=[]\n",
    "    l=[]\n",
    "    for i in range(26):\n",
    "        l.append(i)\n",
    "    for i in l:\n",
    "        if i%2!=0:\n",
    "            list_odd.append(i)\n",
    "    return list_odd\n",
    "odd_number()"
   ]
  },
  {
   "cell_type": "markdown",
   "id": "989b1882-edf4-4525-8969-f1bd49941dbc",
   "metadata": {},
   "source": [
    "Q2. Why *args and **kwargs is used in some functions? Create a function each for *args and **kwargs\n",
    "to demonstrate their use."
   ]
  },
  {
   "cell_type": "markdown",
   "id": "651d6f50-403c-4f23-b093-1e92d2a069b5",
   "metadata": {},
   "source": [
    "The special syntax *args in function definitions in Python is used to pass a variable number of arguments to a function.\n",
    "\n",
    "The special syntax **kwargs in function definitions in Python is used to pass a keyword, value argumentsto a function.\n",
    "kwargs as being a dictionary that maps each keyword to the value that we pass alongside it. "
   ]
  },
  {
   "cell_type": "code",
   "execution_count": 2,
   "id": "77a984ee-167f-455b-8bcb-b4de7cbce3f8",
   "metadata": {},
   "outputs": [
    {
     "name": "stdout",
     "output_type": "stream",
     "text": [
      "Hello\n",
      "Welcome\n",
      "to\n",
      "PWSkills\n",
      "[1, 2, 3, 4, 5]\n"
     ]
    }
   ],
   "source": [
    "def myFunc(*args):\n",
    "\tfor i in args:\n",
    "\t\tprint(i)\n",
    "myFunc('Hello', 'Welcome', 'to', 'PWSkills', [1,2,3,4,5])"
   ]
  },
  {
   "cell_type": "code",
   "execution_count": 3,
   "id": "74b1f046-ad88-4169-bf44-c6c4e75404d2",
   "metadata": {},
   "outputs": [
    {
     "data": {
      "text/plain": [
       "{'first': '1', 'second': '2', 'Third': '3'}"
      ]
     },
     "execution_count": 3,
     "metadata": {},
     "output_type": "execute_result"
    }
   ],
   "source": [
    "def myFunc(**kwargs):\n",
    "\treturn kwargs\n",
    "        \n",
    "myFunc(first='1', second='2', Third='3')"
   ]
  },
  {
   "cell_type": "markdown",
   "id": "6746a60a-2d8c-44bd-8187-77925fbd880c",
   "metadata": {},
   "source": [
    "Q3. What is an iterator in python? Name the method used to initialise the iterator object and the method\n",
    "used for iteration. Use these methods to print the first five elements of the given list [2, 4, 6, 8, 10, 12, 14,\n",
    "16, 18, 20]."
   ]
  },
  {
   "cell_type": "markdown",
   "id": "90227c04-0bab-40fc-9059-3e8aa16fbece",
   "metadata": {},
   "source": [
    "In Python, an iterator is an object that allows you to iterate over collections of data, such as lists, tuples, dictionaries, and sets.\n",
    "\n",
    "Iter() method is used to initialize the iterator object so that the instance of this object can be used for iterating"
   ]
  },
  {
   "cell_type": "code",
   "execution_count": 4,
   "id": "f2a072e8-fbce-4b59-b26c-c6e810047a10",
   "metadata": {},
   "outputs": [
    {
     "data": {
      "text/plain": [
       "<list_iterator at 0x7f4770d67490>"
      ]
     },
     "execution_count": 4,
     "metadata": {},
     "output_type": "execute_result"
    }
   ],
   "source": [
    "l=[2, 4, 6, 8, 10, 12, 14, 16, 18, 20]\n",
    "l1=iter(l)\n",
    "l1"
   ]
  },
  {
   "cell_type": "code",
   "execution_count": 5,
   "id": "ba97cd79-3729-43b9-9e71-ceda08afc534",
   "metadata": {},
   "outputs": [
    {
     "data": {
      "text/plain": [
       "2"
      ]
     },
     "execution_count": 5,
     "metadata": {},
     "output_type": "execute_result"
    }
   ],
   "source": [
    "next(l1)"
   ]
  },
  {
   "cell_type": "code",
   "execution_count": 6,
   "id": "1af02d69-e95b-4c31-afcc-cb8065e071fc",
   "metadata": {},
   "outputs": [
    {
     "data": {
      "text/plain": [
       "4"
      ]
     },
     "execution_count": 6,
     "metadata": {},
     "output_type": "execute_result"
    }
   ],
   "source": [
    "next(l1)"
   ]
  },
  {
   "cell_type": "code",
   "execution_count": 7,
   "id": "e91a845b-a634-499d-9092-8702e4f0f52f",
   "metadata": {},
   "outputs": [
    {
     "data": {
      "text/plain": [
       "6"
      ]
     },
     "execution_count": 7,
     "metadata": {},
     "output_type": "execute_result"
    }
   ],
   "source": [
    "next(l1)"
   ]
  },
  {
   "cell_type": "code",
   "execution_count": 8,
   "id": "ec452d70-4984-4236-b50c-687f82da3b07",
   "metadata": {},
   "outputs": [
    {
     "data": {
      "text/plain": [
       "8"
      ]
     },
     "execution_count": 8,
     "metadata": {},
     "output_type": "execute_result"
    }
   ],
   "source": [
    "next(l1)"
   ]
  },
  {
   "cell_type": "code",
   "execution_count": 9,
   "id": "f064c242-7ead-4958-a95f-56aff5078796",
   "metadata": {},
   "outputs": [
    {
     "data": {
      "text/plain": [
       "10"
      ]
     },
     "execution_count": 9,
     "metadata": {},
     "output_type": "execute_result"
    }
   ],
   "source": [
    "next(l1)"
   ]
  },
  {
   "cell_type": "markdown",
   "id": "854ebb0f-7be0-47a5-865d-8c510a58f49f",
   "metadata": {},
   "source": [
    "Q4. What is a generator function in python? Why yield keyword is used? Give an example of a generator\n",
    "function."
   ]
  },
  {
   "cell_type": "markdown",
   "id": "3b30cbd5-1f19-4316-b282-e2ec43b8ef55",
   "metadata": {},
   "source": [
    "In Python, a generator is a function that returns an iterator that produces a sequence of values when iterated over.\n",
    "Here, the yield keyword is used to produce a value from the generator."
   ]
  },
  {
   "cell_type": "code",
   "execution_count": 10,
   "id": "aa6dad83-41f3-4e74-983f-e5479740939e",
   "metadata": {},
   "outputs": [
    {
     "name": "stdout",
     "output_type": "stream",
     "text": [
      "1\n",
      "2\n",
      "3\n",
      "4\n",
      "5\n"
     ]
    }
   ],
   "source": [
    "def my_generator(n):\n",
    "    count = 1\n",
    "    while count <= n:\n",
    "        yield count\n",
    "        count += 1\n",
    "\n",
    "for i in my_generator(5):\n",
    "    print(i)"
   ]
  },
  {
   "cell_type": "markdown",
   "id": "7c377ada-9ff9-4dd0-920b-26347f1cfecc",
   "metadata": {},
   "source": [
    "Q5. Create a generator function for prime numbers less than 1000. Use the next() method to print the\n",
    "first 20 prime numbers."
   ]
  },
  {
   "cell_type": "code",
   "execution_count": 11,
   "id": "fc1e5ac2-c3b1-4646-adcb-f3a906a783e3",
   "metadata": {},
   "outputs": [],
   "source": [
    "def prime_generator(y):\n",
    "\tfor i in range(2, y):\n",
    "\t\tif i == 0 or i == 1:\n",
    "\t\t\tcontinue\n",
    "\t\telse:\n",
    "\t\t\tfor j in range(2, i):\n",
    "\t\t\t\tif i % j == 0:\n",
    "\t\t\t\t\tbreak\n",
    "\t\t\telse:\n",
    "\t\t\t\tyield i\t"
   ]
  },
  {
   "cell_type": "code",
   "execution_count": 12,
   "id": "570ad3aa-1ceb-4072-9fd0-fda7f2b8358c",
   "metadata": {},
   "outputs": [],
   "source": [
    "c=prime_generator(1000)"
   ]
  },
  {
   "cell_type": "code",
   "execution_count": 13,
   "id": "25c74903-74df-4773-8058-726dc124a975",
   "metadata": {},
   "outputs": [
    {
     "data": {
      "text/plain": [
       "generator"
      ]
     },
     "execution_count": 13,
     "metadata": {},
     "output_type": "execute_result"
    }
   ],
   "source": [
    "type(c)"
   ]
  },
  {
   "cell_type": "code",
   "execution_count": 14,
   "id": "60ed0eb8-c462-42f3-a141-ad8a19d86b20",
   "metadata": {},
   "outputs": [
    {
     "data": {
      "text/plain": [
       "2"
      ]
     },
     "execution_count": 14,
     "metadata": {},
     "output_type": "execute_result"
    }
   ],
   "source": [
    "next(c)"
   ]
  },
  {
   "cell_type": "code",
   "execution_count": 15,
   "id": "3165f06e-24b7-45b9-94ea-7faf3e923d3d",
   "metadata": {},
   "outputs": [
    {
     "data": {
      "text/plain": [
       "3"
      ]
     },
     "execution_count": 15,
     "metadata": {},
     "output_type": "execute_result"
    }
   ],
   "source": [
    "next(c)"
   ]
  },
  {
   "cell_type": "code",
   "execution_count": 16,
   "id": "9725e4ac-8aec-49e4-8e22-ff94dd6143db",
   "metadata": {},
   "outputs": [
    {
     "data": {
      "text/plain": [
       "5"
      ]
     },
     "execution_count": 16,
     "metadata": {},
     "output_type": "execute_result"
    }
   ],
   "source": [
    "next(c)"
   ]
  },
  {
   "cell_type": "code",
   "execution_count": 17,
   "id": "22cf7829-14bd-4128-a17c-519e58993e3c",
   "metadata": {},
   "outputs": [
    {
     "data": {
      "text/plain": [
       "7"
      ]
     },
     "execution_count": 17,
     "metadata": {},
     "output_type": "execute_result"
    }
   ],
   "source": [
    "next(c)"
   ]
  },
  {
   "cell_type": "code",
   "execution_count": 18,
   "id": "0e5ce00e-d0de-454d-b9ea-3ae1e7a99389",
   "metadata": {},
   "outputs": [
    {
     "data": {
      "text/plain": [
       "11"
      ]
     },
     "execution_count": 18,
     "metadata": {},
     "output_type": "execute_result"
    }
   ],
   "source": [
    "next(c)"
   ]
  },
  {
   "cell_type": "code",
   "execution_count": 19,
   "id": "c0f9b6b1-e6d4-4318-a7c7-a86525914f0a",
   "metadata": {},
   "outputs": [
    {
     "data": {
      "text/plain": [
       "13"
      ]
     },
     "execution_count": 19,
     "metadata": {},
     "output_type": "execute_result"
    }
   ],
   "source": [
    "next(c)"
   ]
  },
  {
   "cell_type": "code",
   "execution_count": 20,
   "id": "33fa34df-2341-4245-b027-390539def047",
   "metadata": {},
   "outputs": [
    {
     "data": {
      "text/plain": [
       "17"
      ]
     },
     "execution_count": 20,
     "metadata": {},
     "output_type": "execute_result"
    }
   ],
   "source": [
    "next(c)"
   ]
  },
  {
   "cell_type": "code",
   "execution_count": 21,
   "id": "b4b35ec9-0bed-488e-ba7f-79fff9fc5640",
   "metadata": {},
   "outputs": [
    {
     "data": {
      "text/plain": [
       "19"
      ]
     },
     "execution_count": 21,
     "metadata": {},
     "output_type": "execute_result"
    }
   ],
   "source": [
    "next(c)"
   ]
  },
  {
   "cell_type": "code",
   "execution_count": 22,
   "id": "ce33df85-24dd-4255-8b91-c2aa70e3105d",
   "metadata": {},
   "outputs": [
    {
     "data": {
      "text/plain": [
       "23"
      ]
     },
     "execution_count": 22,
     "metadata": {},
     "output_type": "execute_result"
    }
   ],
   "source": [
    "next(c)"
   ]
  },
  {
   "cell_type": "code",
   "execution_count": 23,
   "id": "0b040aa2-b5a3-4a6d-86d8-0369777b58d7",
   "metadata": {},
   "outputs": [
    {
     "data": {
      "text/plain": [
       "29"
      ]
     },
     "execution_count": 23,
     "metadata": {},
     "output_type": "execute_result"
    }
   ],
   "source": [
    "next(c)"
   ]
  },
  {
   "cell_type": "code",
   "execution_count": 24,
   "id": "750c84be-3050-4c18-acac-0dd693d1bcc9",
   "metadata": {},
   "outputs": [
    {
     "data": {
      "text/plain": [
       "31"
      ]
     },
     "execution_count": 24,
     "metadata": {},
     "output_type": "execute_result"
    }
   ],
   "source": [
    "next(c)"
   ]
  },
  {
   "cell_type": "code",
   "execution_count": 25,
   "id": "5161461c-2cda-448a-9741-0c55de3be5a7",
   "metadata": {},
   "outputs": [
    {
     "data": {
      "text/plain": [
       "37"
      ]
     },
     "execution_count": 25,
     "metadata": {},
     "output_type": "execute_result"
    }
   ],
   "source": [
    "next(c)"
   ]
  },
  {
   "cell_type": "code",
   "execution_count": 26,
   "id": "a991c324-627b-48bd-9c25-8946eae4c774",
   "metadata": {},
   "outputs": [
    {
     "data": {
      "text/plain": [
       "41"
      ]
     },
     "execution_count": 26,
     "metadata": {},
     "output_type": "execute_result"
    }
   ],
   "source": [
    "next(c)"
   ]
  },
  {
   "cell_type": "code",
   "execution_count": 27,
   "id": "d4147ec3-2683-4ce3-9989-76851719fea3",
   "metadata": {},
   "outputs": [
    {
     "data": {
      "text/plain": [
       "43"
      ]
     },
     "execution_count": 27,
     "metadata": {},
     "output_type": "execute_result"
    }
   ],
   "source": [
    "next(c)"
   ]
  },
  {
   "cell_type": "code",
   "execution_count": 28,
   "id": "f97b3b9a-a324-4ee9-b7a0-b1960ddbd2f3",
   "metadata": {},
   "outputs": [
    {
     "data": {
      "text/plain": [
       "47"
      ]
     },
     "execution_count": 28,
     "metadata": {},
     "output_type": "execute_result"
    }
   ],
   "source": [
    "next(c)"
   ]
  },
  {
   "cell_type": "code",
   "execution_count": 29,
   "id": "54c9c1ee-a2a1-4902-8432-7af5a4109f93",
   "metadata": {},
   "outputs": [
    {
     "data": {
      "text/plain": [
       "53"
      ]
     },
     "execution_count": 29,
     "metadata": {},
     "output_type": "execute_result"
    }
   ],
   "source": [
    "next(c)"
   ]
  },
  {
   "cell_type": "code",
   "execution_count": 30,
   "id": "d8b06453-c9b2-40e5-9f2f-860958b77338",
   "metadata": {},
   "outputs": [
    {
     "data": {
      "text/plain": [
       "59"
      ]
     },
     "execution_count": 30,
     "metadata": {},
     "output_type": "execute_result"
    }
   ],
   "source": [
    "next(c)"
   ]
  },
  {
   "cell_type": "code",
   "execution_count": 31,
   "id": "01d72293-4411-47cd-8506-936e80dfdcbe",
   "metadata": {},
   "outputs": [
    {
     "data": {
      "text/plain": [
       "61"
      ]
     },
     "execution_count": 31,
     "metadata": {},
     "output_type": "execute_result"
    }
   ],
   "source": [
    "next(c)"
   ]
  },
  {
   "cell_type": "code",
   "execution_count": 32,
   "id": "7c7d2c77-2cc9-4ac5-bd59-fb247b330e53",
   "metadata": {},
   "outputs": [
    {
     "data": {
      "text/plain": [
       "67"
      ]
     },
     "execution_count": 32,
     "metadata": {},
     "output_type": "execute_result"
    }
   ],
   "source": [
    "next(c)"
   ]
  },
  {
   "cell_type": "code",
   "execution_count": 33,
   "id": "443237e3-66ef-4a93-b25f-ea482d08472a",
   "metadata": {},
   "outputs": [
    {
     "data": {
      "text/plain": [
       "71"
      ]
     },
     "execution_count": 33,
     "metadata": {},
     "output_type": "execute_result"
    }
   ],
   "source": [
    "next(c)"
   ]
  },
  {
   "cell_type": "code",
   "execution_count": 34,
   "id": "71ae4cad-a8e6-4850-a260-b902561a7dde",
   "metadata": {},
   "outputs": [
    {
     "data": {
      "text/plain": [
       "73"
      ]
     },
     "execution_count": 34,
     "metadata": {},
     "output_type": "execute_result"
    }
   ],
   "source": [
    "next(c)"
   ]
  },
  {
   "cell_type": "markdown",
   "id": "ce5ed17f-0eb4-442e-95fc-bd63ee9fc097",
   "metadata": {},
   "source": [
    "Q6. Write a python program to print the first 10 Fibonacci numbers using a while loop."
   ]
  },
  {
   "cell_type": "code",
   "execution_count": 35,
   "id": "00b70421-acb7-44b3-af39-895d9f402cc1",
   "metadata": {},
   "outputs": [
    {
     "name": "stdout",
     "output_type": "stream",
     "text": [
      "0\n",
      "1\n",
      "1\n",
      "2\n",
      "3\n",
      "5\n",
      "8\n",
      "13\n",
      "21\n",
      "34\n"
     ]
    }
   ],
   "source": [
    "a=0\n",
    "b=1\n",
    "n=0\n",
    "while n<10:\n",
    "    c=a+b\n",
    "    print(a)\n",
    "    a=b\n",
    "    b=c\n",
    "    n+=1"
   ]
  },
  {
   "cell_type": "markdown",
   "id": "8429314a-eebe-4db8-8195-317130a283ff",
   "metadata": {},
   "source": [
    "Q7. Write a List Comprehension to iterate through the given string: ‘pwskills’.\n",
    "Expected output: ['p', 'w', 's', 'k', 'i', 'l', 'l', 's']"
   ]
  },
  {
   "cell_type": "code",
   "execution_count": 36,
   "id": "24757864-310c-418b-8421-db554697006c",
   "metadata": {},
   "outputs": [
    {
     "name": "stdout",
     "output_type": "stream",
     "text": [
      "['p', 'w', 's', 'k', 'i', 'l', 'l', 's']\n"
     ]
    }
   ],
   "source": [
    "a='pwskills'\n",
    "l=[i for i in a]\n",
    "print(l)"
   ]
  },
  {
   "cell_type": "markdown",
   "id": "55f908bc-0e4d-4355-8447-916e69c769ab",
   "metadata": {},
   "source": [
    "Q8. Write a python program to check whether a given number is Palindrome or not using a while loop."
   ]
  },
  {
   "cell_type": "code",
   "execution_count": 37,
   "id": "01522b65-3da3-4cdd-95ff-4a122dc08daa",
   "metadata": {},
   "outputs": [
    {
     "name": "stdin",
     "output_type": "stream",
     "text": [
      "Enter any number: 121\n"
     ]
    },
    {
     "name": "stdout",
     "output_type": "stream",
     "text": [
      "The number is palindrome! 121\n"
     ]
    }
   ],
   "source": [
    "num=int(input(\"Enter any number:\"))\n",
    "temp=num\n",
    "rev=0\n",
    "while(num>0):\n",
    "    dig=num%10\n",
    "    rev=rev*10+dig\n",
    "    num=num//10\n",
    "if(temp==rev):\n",
    "    print(\"The number is palindrome!\",temp)\n",
    "else:\n",
    "    print(\"Not a palindrome!\")"
   ]
  },
  {
   "cell_type": "markdown",
   "id": "edb85ab3-0a61-49a2-960f-aebe018d8087",
   "metadata": {},
   "source": [
    "Q9. Write a code to print odd numbers from 1 to 100 using list comprehension."
   ]
  },
  {
   "cell_type": "code",
   "execution_count": 38,
   "id": "165d0fba-fa53-4b52-be04-00611dd585de",
   "metadata": {},
   "outputs": [
    {
     "name": "stdout",
     "output_type": "stream",
     "text": [
      "[1, 3, 5, 7, 9, 11, 13, 15, 17, 19, 21, 23, 25, 27, 29, 31, 33, 35, 37, 39, 41, 43, 45, 47, 49, 51, 53, 55, 57, 59, 61, 63, 65, 67, 69, 71, 73, 75, 77, 79, 81, 83, 85, 87, 89, 91, 93, 95, 97, 99]\n"
     ]
    }
   ],
   "source": [
    "l=[i for i in range (101)]\n",
    "l1=[i for i in l if i%2!=0]\n",
    "print(l1)"
   ]
  }
 ],
 "metadata": {
  "kernelspec": {
   "display_name": "Python 3 (ipykernel)",
   "language": "python",
   "name": "python3"
  },
  "language_info": {
   "codemirror_mode": {
    "name": "ipython",
    "version": 3
   },
   "file_extension": ".py",
   "mimetype": "text/x-python",
   "name": "python",
   "nbconvert_exporter": "python",
   "pygments_lexer": "ipython3",
   "version": "3.10.8"
  }
 },
 "nbformat": 4,
 "nbformat_minor": 5
}
