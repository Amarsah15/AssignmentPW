{
 "cells": [
  {
   "cell_type": "markdown",
   "id": "db669eda-5d4a-4b4e-9019-498244f7a229",
   "metadata": {},
   "source": [
    "Q1. What is multithreading in python? Why is it used? Name the module used to handle threads in python."
   ]
  },
  {
   "cell_type": "markdown",
   "id": "b2388b4e-2378-4e36-8501-c012aed767a0",
   "metadata": {},
   "source": [
    "Multithreading in python is a way of executing multiple parts of a program at the same time, using the threading module.\n",
    "\n",
    "It is used to improve the performance and responsiveness of the program, especially when it involves tasks that are I/O bound or network bound.\n",
    "\n",
    "The threading module provides various classes and functions to create, manage and synchronize threads in python."
   ]
  },
  {
   "cell_type": "markdown",
   "id": "5cb38bb3-c40d-4ede-be2a-e7da91bb571e",
   "metadata": {},
   "source": [
    "Q2. Why threading module used? Write the use of the following functions\n",
    "1. activeCount()\n",
    "2. currentThread()\n",
    "3. enumerate()"
   ]
  },
  {
   "cell_type": "markdown",
   "id": "9a76a237-8c1b-46f0-b9f4-fbb5c51e035c",
   "metadata": {},
   "source": [
    "The threading module is used to create, control, and manage threads in python.\n",
    "\n",
    "Threads are units of execution that can run concurrently within a process. \n",
    "\n",
    "activecount(): Returns the number of thread objects that are currently alive.\n",
    "\n",
    "currentthread(): Returns the thread object corresponding to the caller’s thread of control.\n",
    "\n",
    "enumerate(): Returns a list of all thread objects that are currently alive"
   ]
  },
  {
   "cell_type": "markdown",
   "id": "b123dac2-6551-4ea5-bb7a-ca4efbfb3eda",
   "metadata": {},
   "source": [
    "Q3. Explain the following functions\n",
    "1. run()\n",
    "2. start()\n",
    "3. join()\n",
    "4. isAlive()"
   ]
  },
  {
   "cell_type": "markdown",
   "id": "78f71a15-1523-4920-a99f-c9cac51b15f5",
   "metadata": {},
   "source": [
    "run(): The run() method is the entry point for a thread. It contains the code that the thread executes.\n",
    "\n",
    "start(): The start() method starts a thread by calling the run() method. It creates and runs the thread in the background.\n",
    "\n",
    "join(): The join() method waits for a thread to terminate. It blocks the calling thread until the thread on which it is called completes or until a timeout occurs.\n",
    "\n",
    "isAlive(): The isAlive() method checks whether a thread is still executing. It returns True if the thread is alive and False otherwise."
   ]
  },
  {
   "cell_type": "markdown",
   "id": "75037d35-5256-42cd-8bdd-0a22e51db225",
   "metadata": {},
   "source": [
    "Q4. Write a python program to create two threads. Thread one must print the list of squares and thread\n",
    "two must print the list of cubes"
   ]
  },
  {
   "cell_type": "code",
   "execution_count": 1,
   "id": "ee6f2308-e5eb-42bc-bf88-af7c73e3f7e2",
   "metadata": {},
   "outputs": [
    {
     "name": "stdout",
     "output_type": "stream",
     "text": [
      "Square of 0 = 0\n",
      "Square of 1 = 1\n",
      "Square of 2 = 4\n",
      "Square of 3 = 9\n",
      "Square of 4 = 16\n",
      "Square of 5 = 25\n",
      "Square of 6 = 36\n",
      "Square of 7 = 49\n",
      "Square of 8 = 64\n",
      "Square of 9 = 81\n",
      "Cube of 0 = 0\n",
      "Cube of 1 = 1\n",
      "Cube of 2 = 8\n",
      "Cube of 3 = 27\n",
      "Cube of 4 = 64\n",
      "Cube of 5 = 125\n",
      "Cube of 6 = 216\n",
      "Cube of 7 = 343\n",
      "Cube of 8 = 512\n",
      "Cube of 9 = 729\n"
     ]
    }
   ],
   "source": [
    "import threading\n",
    "\n",
    "def sqre(num):\n",
    "    print(\"Square of {} = {}\".format(num,num**2))\n",
    "\n",
    "def cube(num):\n",
    "    print(\"Cube of {} = {}\".format(num,num**3))\n",
    "\n",
    "\n",
    "thread1 = [threading.Thread(target=sqre, args=(i,)) for i in range(10) ]\n",
    "thread2 = [threading.Thread(target=cube, args=(i,)) for i in range(10) ]\n",
    "\n",
    "for t in thread1 : \n",
    "    t.start()\n",
    "\n",
    "for t in thread2 : \n",
    "    t.start()"
   ]
  },
  {
   "cell_type": "markdown",
   "id": "5a2abb06-cbbd-48cd-abe5-698350d1a9d4",
   "metadata": {},
   "source": [
    "Q5. State advantages and disadvantages of multithreading"
   ]
  },
  {
   "cell_type": "markdown",
   "id": "f0333895-17da-405b-b0cc-436aa9d15c39",
   "metadata": {},
   "source": [
    "Some advantages and disadvantages of multithreading are:\n",
    "\n",
    "**Advantages:**\n",
    "- Improved performance and concurrency\n",
    "- Simultaneous access to multiple applications\n",
    "- Reduced number of required servers\n",
    "- Simplified coding of remote procedure calls and conversations\n",
    "- Improvised GUI responsiveness\n",
    "- Better use of cache storage and CPU resources\n",
    "\n",
    "**Disadvantages:**\n",
    "- Code writing, debugging, managing concurrency, testing, porting existing code is difficult in multithreading\n",
    "- Programmers need to remove static variables and replace any code that is not thread-safe to introduce threading into a previously non threaded application"
   ]
  },
  {
   "cell_type": "markdown",
   "id": "b007e04a-ad9e-4c2f-972f-21ae4bf0d994",
   "metadata": {},
   "source": [
    "Q6. Explain deadlocks and race conditions."
   ]
  },
  {
   "cell_type": "markdown",
   "id": "6e6ef68b-8cca-41fb-97f1-3d67da222ade",
   "metadata": {},
   "source": [
    "A deadlock is a situation where two or more processes stop making progress indefinitely because they are all waiting for each other to do something.\n",
    "\n",
    "A race condition is a situation where the outcome of a program depends on the order or timing of the execution of concurrent threads."
   ]
  }
 ],
 "metadata": {
  "kernelspec": {
   "display_name": "Python 3 (ipykernel)",
   "language": "python",
   "name": "python3"
  },
  "language_info": {
   "codemirror_mode": {
    "name": "ipython",
    "version": 3
   },
   "file_extension": ".py",
   "mimetype": "text/x-python",
   "name": "python",
   "nbconvert_exporter": "python",
   "pygments_lexer": "ipython3",
   "version": "3.10.8"
  }
 },
 "nbformat": 4,
 "nbformat_minor": 5
}
