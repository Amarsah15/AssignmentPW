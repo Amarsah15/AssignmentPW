{
 "cells": [
  {
   "cell_type": "markdown",
   "id": "4cd6fec9-a439-40db-b53a-e51baee4b601",
   "metadata": {},
   "source": [
    "Q1. What is Statistics?"
   ]
  },
  {
   "cell_type": "markdown",
   "id": "f22e7451-274b-4afb-97b8-79786fb15e8e",
   "metadata": {},
   "source": [
    "Statistics is the science of collecting, organizing and analyzing data."
   ]
  },
  {
   "cell_type": "markdown",
   "id": "366109a1-d5ef-4c4f-9451-fe92b44341a1",
   "metadata": {},
   "source": [
    "Q2. Define the different types of statistics and give an example of when each type might be used."
   ]
  },
  {
   "cell_type": "markdown",
   "id": "71260ff8-1337-451e-9acc-a24a6e6fb548",
   "metadata": {},
   "source": [
    "There are two types of statistics:\n",
    "1. Descriptive statistics\n",
    "2. Inferential statistics\n",
    "\n",
    "Examples for Descriptive statistics:\n",
    "1. If you want to know the average height of students in a class, you would use descriptive statistics to calculate the mean height of all the students in the class.\n",
    "\n",
    "Examples for Inferential statistic:\n",
    "1. If you want to know whether a new teaching method is effective in improving students’ test scores, you would use inferential statistics to analyze the test scores of a sample of students who were taught using the new method and compare them to the test scores of a control group of students who were taught using a traditional method."
   ]
  },
  {
   "cell_type": "markdown",
   "id": "486196a9-f3cf-4e4e-a214-384243d70b6f",
   "metadata": {},
   "source": [
    "Q3. What are the different types of data and how do they differ from each other? Provide an example of\n",
    "each type of data."
   ]
  },
  {
   "cell_type": "markdown",
   "id": "7a345498-afc4-4e7d-baec-4075bb3a66cd",
   "metadata": {},
   "source": [
    "There are two main types of data: qualitative data and quantitative data.\n",
    "\n",
    "Qualitative data, also known as categorical data, describes the characteristics or attributes of an object using a finite set of discrete classes. This type of data cannot be easily counted or measured using numbers and is therefore divided into categories. For example, the gender of a person (male, female, or others) is a good example of qualitative data. Another example is the color of a smartphone, which can be categorized as red, blue, green, etc.\n",
    "\n",
    "Quantitative data, on the other hand, can be measured and represented numerically. Calculations can be performed on this type of data. For example, the number of students in a class is an example of quantitative data."
   ]
  },
  {
   "cell_type": "markdown",
   "id": "22b069b0-59e1-4de0-8e3b-709b1bdb4647",
   "metadata": {},
   "source": [
    "Q4. Categorise the following datasets with respect to quantitative and qualitative data types:\n",
    "\n",
    "(i) Grading in exam: A+, A, B+, B, C+, C, D, E\n",
    "\n",
    "(ii) Colour of mangoes: yellow, green, orange, red\n",
    "\n",
    "(iii) Height data of a class: [178.9, 179, 179.5, 176, 177.2, 178.3, 175.8,...]\n",
    "\n",
    "(iv) Number of mangoes exported by a farm: [500, 600, 478, 672, ...]"
   ]
  },
  {
   "cell_type": "markdown",
   "id": "32a7d246-32b8-468c-904e-91e349430bc3",
   "metadata": {},
   "source": [
    "i) Qualitative data - Ordinal\n",
    "\n",
    "ii) Qualitative data - Nominal\n",
    "\n",
    "iii) Quantitative - Continous\n",
    "\n",
    "iv) Quantitative - Discret"
   ]
  },
  {
   "cell_type": "markdown",
   "id": "e4e370e1-2de6-4875-b79c-ee5f31943358",
   "metadata": {},
   "source": [
    "Q5. Explain the concept of levels of measurement and give an example of a variable for each level."
   ]
  },
  {
   "cell_type": "markdown",
   "id": "109b0af8-fcb6-4690-9285-d192dc6a4368",
   "metadata": {},
   "source": [
    "Levels of measurement, also called scales of measurement, tell you how precisely variables are recorded.\n",
    "\n",
    "There are 4 levels of measurement: Nominal, Ordinal, Interval, and Ratio.\n",
    "\n",
    "Nominal level: You can categorize your data by labeling them in mutually exclusive groups, but there is no order between the categories. For example, the city of birth, gender, ethnicity, car brands, and marital status are all examples of nominal scales.\n",
    "\n",
    "Ordinal level: You can categorize and rank your data in an order, but you cannot say anything about the intervals between the rankings. For example, top 5 Olympic medalists, language ability (e.g., beginner, intermediate, fluent), and Likert-type questions (e.g., very good to very bad) are all examples of ordinal scales.\n",
    "\n",
    "Interval level: You can categorize, rank, and infer equal intervals between neighboring data points, but there is no true zero point. For example, test scores (e.g., IQ or exams), and temperature in Fahrenheit or Celsius are all examples of interval scales.\n",
    "\n",
    "Ratio level: You can categorize, rank, and infer equal intervals between neighboring data points, and there is a true zero point. A true zero means there is an absence of the variable of interest. For example, height, weight, age, and income are all examples of ratio scales."
   ]
  },
  {
   "cell_type": "markdown",
   "id": "426a9691-8076-4c30-b48c-e081ffcd9288",
   "metadata": {},
   "source": [
    "Q6. Why is it important to understand the level of measurement when analyzing data? Provide an\n",
    "example to illustrate your answer."
   ]
  },
  {
   "cell_type": "markdown",
   "id": "5cfff8a4-3904-41b8-8dfb-b8999b9a02df",
   "metadata": {},
   "source": [
    "It is important to understand the level of measurement when analyzing data because it determines the type of statistical analysis you can carry out. As a result, it affects both the nature and the depth of insights you’re able to glean from your data.\n",
    "\n",
    "For example, if you have data on the income levels of a group of people, and you want to know the average income, you need to know that the data is measured at the ratio level. This is because the average (or mean) is a measure of central tendency that can only be calculated for interval or ratio data. If the data were measured at the nominal or ordinal level, you would not be able to calculate the mean."
   ]
  },
  {
   "cell_type": "markdown",
   "id": "09e0d8d9-bdaf-4171-8df8-d0f6ed9f7c9c",
   "metadata": {},
   "source": [
    "Q7. How nominal data type is different from ordinal data type."
   ]
  },
  {
   "cell_type": "markdown",
   "id": "1081a2ed-ff5e-4f28-9709-e468344797df",
   "metadata": {},
   "source": [
    "Nominal data is data that can be placed into categories, but the categories do not have any order or structure. For example, the color of a car (red, blue, green, etc.) is nominal data because there is no inherent order to the colors.\n",
    "\n",
    "Ordinal data, on the other hand, is data that can be placed into categories that have a specific order or ranking. For example, star ratings (1 star, 2 stars, 3 stars, etc.) are ordinal data because there is a clear order to the ratings."
   ]
  },
  {
   "cell_type": "markdown",
   "id": "b2b96f66-33fd-4dcb-baf6-f651dad148d3",
   "metadata": {},
   "source": [
    "Q8. Which type of plot can be used to display data in terms of range?"
   ]
  },
  {
   "cell_type": "markdown",
   "id": "369625b7-9cf8-4847-b89c-512bb426a452",
   "metadata": {},
   "source": [
    "Box plots and stem-and-leaf plots can be used to display data in terms of range."
   ]
  },
  {
   "cell_type": "markdown",
   "id": "f1774752-3f9b-4774-8246-8f4bbfeef357",
   "metadata": {},
   "source": [
    "Q9. Describe the difference between descriptive and inferential statistics. Give an example of each\n",
    "type of statistics and explain how they are used."
   ]
  },
  {
   "cell_type": "markdown",
   "id": "dbf1d76c-1fc8-4b56-8786-401db2ba350d",
   "metadata": {},
   "source": [
    "Descriptive statistics is the branch of statistics that deals with the collection, organization, summarization, and presentation of data. It is used to describe the basic features of the data in a study. Descriptive statistics provide simple summaries about the sample and the measures. For example, if you want to know the average height of students in a class, you would use descriptive statistics to calculate the mean height of all the students in the class.\n",
    "\n",
    "Inferential statistics, on the other hand, is used to make inferences about a population based on a sample of data taken from that population. It is used to draw conclusions from data that are subject to random variation, such as observational errors or sampling variation. For example, if you want to know whether a new teaching method is effective in improving students’ test scores, you would use inferential statistics to analyze the test scores of a sample of students who were taught using the new method and compare them to the test scores of a control group of students who were taught using a traditional method."
   ]
  },
  {
   "cell_type": "markdown",
   "id": "04903efb-b217-42a3-b3c1-41f84a4c5bb2",
   "metadata": {},
   "source": [
    "Q10. What are some common measures of central tendency and variability used in statistics? Explain\n",
    "how each measure can be used to describe a dataset."
   ]
  },
  {
   "cell_type": "markdown",
   "id": "f8898481-a8bf-4b28-b5ca-d879e2dff566",
   "metadata": {},
   "source": [
    "In statistics, measures of central tendency and variability are used to describe the characteristics of a dataset. Some common measures of central tendency include the mean, median, and mode.\n",
    "\n",
    "The mean is the sum of all values in a dataset divided by the total number of values. It is often referred to as the average and is used to represent the typical value in a dataset.\n",
    "\n",
    "The median is the middle value in an ordered dataset. If the dataset has an odd number of values, the median is the middle value. If the dataset has an even number of values, the median is the average of the two middle values. The median is often used to represent the typical value in a dataset when there are extreme values or outliers that would skew the mean.\n",
    "\n",
    "The mode is the most frequently occurring value in a dataset.\n",
    "\n",
    "Measures of variability, on the other hand, describe how spread out or dispersed the values in a dataset are. Some common measures of variability include the range, variance, and standard deviation.\n",
    "\n",
    "The range is the difference between the maximum and minimum values in a dataset. It provides a measure of how spread out the values in a dataset are.\n",
    "\n",
    "The variance is the average of the squared differences between each value in a dataset and the mean. It provides a measure of how much each value in a dataset differs from the mean.\n",
    "\n",
    "The standard deviation is the square root of the variance. It provides a measure of how much each value in a dataset differs from the mean on average."
   ]
  }
 ],
 "metadata": {
  "kernelspec": {
   "display_name": "Python 3 (ipykernel)",
   "language": "python",
   "name": "python3"
  },
  "language_info": {
   "codemirror_mode": {
    "name": "ipython",
    "version": 3
   },
   "file_extension": ".py",
   "mimetype": "text/x-python",
   "name": "python",
   "nbconvert_exporter": "python",
   "pygments_lexer": "ipython3",
   "version": "3.10.8"
  }
 },
 "nbformat": 4,
 "nbformat_minor": 5
}
