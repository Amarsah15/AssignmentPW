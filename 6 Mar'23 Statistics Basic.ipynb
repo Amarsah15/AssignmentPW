{
 "cells": [
  {
   "cell_type": "markdown",
   "id": "4241e233-a6e4-448d-bf47-a9eda1e92961",
   "metadata": {},
   "source": [
    "Q1. What is Statistics?"
   ]
  },
  {
   "cell_type": "markdown",
   "id": "453a4b0c-f5b2-4c31-bd76-86550a6d1fab",
   "metadata": {},
   "source": [
    "Statistics is the science of collecting, organizing and analyzing data."
   ]
  },
  {
   "cell_type": "markdown",
   "id": "e99c0730-8bb6-4308-8e23-e0a34740e3f1",
   "metadata": {},
   "source": [
    "Q2. Define the different types of statistics and give an example of when each type might be used."
   ]
  },
  {
   "cell_type": "markdown",
   "id": "6429a4f6-973f-479e-8156-e5ae9492c3d8",
   "metadata": {},
   "source": [
    "There are two types of statistics:\n",
    "1. Descriptive statistics\n",
    "2. Inferential statistics\n",
    "\n",
    "Examples for Descriptive statistics:\n",
    "1. If you want to know the average height of students in a class, you would use descriptive statistics to calculate the mean height of all the students in the class.\n",
    "\n",
    "Examples for Inferential statistic:\n",
    "1. If you want to know whether a new teaching method is effective in improving students’ test scores, you would use inferential statistics to analyze the test scores of a sample of students who were taught using the new method and compare them to the test scores of a control group of students who were taught using a traditional method."
   ]
  },
  {
   "cell_type": "markdown",
   "id": "8f634f4f-2652-4fbf-9ca0-9f0f2548d156",
   "metadata": {},
   "source": [
    "Q3. What are the different types of data and how do they differ from each other? Provide an example of\n",
    "each type of data."
   ]
  },
  {
   "cell_type": "markdown",
   "id": "389cb91c-764f-4e11-8d4e-06050be21bba",
   "metadata": {},
   "source": [
    "There are two main types of data: qualitative data and quantitative data.\n",
    "\n",
    "Qualitative data, also known as categorical data, describes the characteristics or attributes of an object using a finite set of discrete classes. This type of data cannot be easily counted or measured using numbers and is therefore divided into categories. For example, the gender of a person (male, female, or others) is a good example of qualitative data. Another example is the color of a smartphone, which can be categorized as red, blue, green, etc.\n",
    "\n",
    "Quantitative data, on the other hand, can be measured and represented numerically. Calculations can be performed on this type of data. For example, the number of students in a class is an example of quantitative data."
   ]
  },
  {
   "cell_type": "markdown",
   "id": "fea3e265-32c0-493b-89ba-5f57b224e509",
   "metadata": {},
   "source": [
    "Q4. Categorise the following datasets with respect to quantitative and qualitative data types:\n",
    "\n",
    "(i) Grading in exam: A+, A, B+, B, C+, C, D, E\n",
    "\n",
    "(ii) Colour of mangoes: yellow, green, orange, red\n",
    "\n",
    "(iii) Height data of a class: [178.9, 179, 179.5, 176, 177.2, 178.3, 175.8,...]\n",
    "\n",
    "(iv) Number of mangoes exported by a farm: [500, 600, 478, 672, ...]"
   ]
  },
  {
   "cell_type": "markdown",
   "id": "95027d29-de1a-4457-b30e-ed0d66283afe",
   "metadata": {},
   "source": [
    "i) Qualitative data - Ordinal\n",
    "\n",
    "ii) Qualitative data - Nominal\n",
    "\n",
    "iii) Quantitative - Continous\n",
    "\n",
    "iv) Quantitative - Discret"
   ]
  },
  {
   "cell_type": "markdown",
   "id": "e191c473-01ab-45d8-a8a9-bfb2ef7d853f",
   "metadata": {},
   "source": [
    "Q5. Explain the concept of levels of measurement and give an example of a variable for each level."
   ]
  },
  {
   "cell_type": "markdown",
   "id": "59aa1a55-841b-413b-a2d8-b49becec44cd",
   "metadata": {},
   "source": [
    "Levels of measurement, also called scales of measurement, tell you how precisely variables are recorded.\n",
    "\n",
    "There are 4 levels of measurement: Nominal, Ordinal, Interval, and Ratio.\n",
    "\n",
    "Nominal level: You can categorize your data by labeling them in mutually exclusive groups, but there is no order between the categories. For example, the city of birth, gender, ethnicity, car brands, and marital status are all examples of nominal scales.\n",
    "\n",
    "Ordinal level: You can categorize and rank your data in an order, but you cannot say anything about the intervals between the rankings. For example, top 5 Olympic medalists, language ability (e.g., beginner, intermediate, fluent), and Likert-type questions (e.g., very good to very bad) are all examples of ordinal scales.\n",
    "\n",
    "Interval level: You can categorize, rank, and infer equal intervals between neighboring data points, but there is no true zero point. For example, test scores (e.g., IQ or exams), and temperature in Fahrenheit or Celsius are all examples of interval scales.\n",
    "\n",
    "Ratio level: You can categorize, rank, and infer equal intervals between neighboring data points, and there is a true zero point. A true zero means there is an absence of the variable of interest. For example, height, weight, age, and income are all examples of ratio scales."
   ]
  },
  {
   "cell_type": "markdown",
   "id": "09036e8e-583a-484d-ad02-d84b06810822",
   "metadata": {},
   "source": [
    "Q6. Why is it important to understand the level of measurement when analyzing data? Provide an\n",
    "example to illustrate your answer."
   ]
  },
  {
   "cell_type": "markdown",
   "id": "32246880-d3f3-4da0-a4f8-1bb216ca0529",
   "metadata": {},
   "source": [
    "It is important to understand the level of measurement when analyzing data because it determines the type of statistical analysis you can carry out. As a result, it affects both the nature and the depth of insights you’re able to glean from your data.\n",
    "\n",
    "For example, if you have data on the income levels of a group of people, and you want to know the average income, you need to know that the data is measured at the ratio level. This is because the average (or mean) is a measure of central tendency that can only be calculated for interval or ratio data. If the data were measured at the nominal or ordinal level, you would not be able to calculate the mean."
   ]
  },
  {
   "cell_type": "markdown",
   "id": "3fb01f19-a334-4af1-b25f-a41c33511b2e",
   "metadata": {},
   "source": [
    "Q7. How nominal data type is different from ordinal data type."
   ]
  },
  {
   "cell_type": "markdown",
   "id": "7376071d-4fc6-4c4d-9b2e-d455994b1ca5",
   "metadata": {},
   "source": [
    "Nominal data is data that can be placed into categories, but the categories do not have any order or structure. For example, the color of a car (red, blue, green, etc.) is nominal data because there is no inherent order to the colors.\n",
    "\n",
    "Ordinal data, on the other hand, is data that can be placed into categories that have a specific order or ranking. For example, star ratings (1 star, 2 stars, 3 stars, etc.) are ordinal data because there is a clear order to the ratings."
   ]
  },
  {
   "cell_type": "markdown",
   "id": "1e4ebaf6-5624-458c-8271-92771c819282",
   "metadata": {},
   "source": [
    "Q8. Which type of plot can be used to display data in terms of range?"
   ]
  },
  {
   "cell_type": "markdown",
   "id": "8fcb4248-a71d-4116-85d0-fa6229f8ba76",
   "metadata": {},
   "source": [
    "Box plots and stem-and-leaf plots can be used to display data in terms of range."
   ]
  },
  {
   "cell_type": "markdown",
   "id": "9082f929-c788-4bd7-810a-230fa64be2fc",
   "metadata": {},
   "source": [
    "Q9. Describe the difference between descriptive and inferential statistics. Give an example of each\n",
    "type of statistics and explain how they are used."
   ]
  },
  {
   "cell_type": "markdown",
   "id": "105044f5-0b8f-47e6-8758-cad83ad29d32",
   "metadata": {},
   "source": [
    "Descriptive statistics is the branch of statistics that deals with the collection, organization, summarization, and presentation of data. It is used to describe the basic features of the data in a study. Descriptive statistics provide simple summaries about the sample and the measures. For example, if you want to know the average height of students in a class, you would use descriptive statistics to calculate the mean height of all the students in the class.\n",
    "\n",
    "Inferential statistics, on the other hand, is used to make inferences about a population based on a sample of data taken from that population. It is used to draw conclusions from data that are subject to random variation, such as observational errors or sampling variation. For example, if you want to know whether a new teaching method is effective in improving students’ test scores, you would use inferential statistics to analyze the test scores of a sample of students who were taught using the new method and compare them to the test scores of a control group of students who were taught using a traditional method."
   ]
  },
  {
   "cell_type": "markdown",
   "id": "e813ef8a-cc23-4f56-95fd-07dcbde9dcd7",
   "metadata": {},
   "source": [
    "Q10. What are some common measures of central tendency and variability used in statistics? Explain\n",
    "how each measure can be used to describe a dataset."
   ]
  },
  {
   "cell_type": "markdown",
   "id": "8f93d952-4486-46d7-a90e-51b9e32a805d",
   "metadata": {},
   "source": [
    "In statistics, measures of central tendency and variability are used to describe the characteristics of a dataset. Some common measures of central tendency include the mean, median, and mode.\n",
    "\n",
    "The mean is the sum of all values in a dataset divided by the total number of values. It is often referred to as the average and is used to represent the typical value in a dataset.\n",
    "\n",
    "The median is the middle value in an ordered dataset. If the dataset has an odd number of values, the median is the middle value. If the dataset has an even number of values, the median is the average of the two middle values. The median is often used to represent the typical value in a dataset when there are extreme values or outliers that would skew the mean.\n",
    "\n",
    "The mode is the most frequently occurring value in a dataset.\n",
    "\n",
    "Measures of variability, on the other hand, describe how spread out or dispersed the values in a dataset are. Some common measures of variability include the range, variance, and standard deviation.\n",
    "\n",
    "The range is the difference between the maximum and minimum values in a dataset. It provides a measure of how spread out the values in a dataset are.\n",
    "\n",
    "The variance is the average of the squared differences between each value in a dataset and the mean. It provides a measure of how much each value in a dataset differs from the mean.\n",
    "\n",
    "The standard deviation is the square root of the variance. It provides a measure of how much each value in a dataset differs from the mean on average."
   ]
  }
 ],
 "metadata": {
  "kernelspec": {
   "display_name": "Python 3 (ipykernel)",
   "language": "python",
   "name": "python3"
  },
  "language_info": {
   "codemirror_mode": {
    "name": "ipython",
    "version": 3
   },
   "file_extension": ".py",
   "mimetype": "text/x-python",
   "name": "python",
   "nbconvert_exporter": "python",
   "pygments_lexer": "ipython3",
   "version": "3.10.8"
  }
 },
 "nbformat": 4,
 "nbformat_minor": 5
}
