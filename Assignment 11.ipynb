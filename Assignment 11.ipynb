{
 "cells": [
  {
   "cell_type": "markdown",
   "id": "87e939bb-5b66-4576-b85a-d511f800d16c",
   "metadata": {},
   "source": [
    "Q1. Which function is used to open a file? What are the different modes of opening a file? Explain each mode\n",
    "of file opening."
   ]
  },
  {
   "cell_type": "markdown",
   "id": "a0a64420-95c9-4ce3-8d17-204fb68e74c4",
   "metadata": {},
   "source": [
    "The function used to open a file is open(). \n",
    "The open() function takes two arguments: the file name (or file path) and the mode in which the file should be opened.\n",
    "\n",
    "Different modes of opening a file:\n",
    "\n",
    "Read Mode ('r'):\n",
    "\n",
    "The file is opened for reading (default mode if not specified).\n",
    "\n",
    "The pointer is placed at the beginning of the file.\n",
    "\n",
    "If the file does not exist, it raises a FileNotFoundError.\n",
    "\n",
    "Write Mode ('w'):\n",
    "\n",
    "The file is opened for writing. If the file already exists, its contents are truncated (deleted).\n",
    "\n",
    "If the file does not exist, a new file is created.\n",
    "\n",
    "The pointer is placed at the beginning of the file.\n",
    "\n",
    "Append Mode ('a'):\n",
    "\n",
    "The file is opened for writing. If the file exists, data is appended at the end of the file.\n",
    "\n",
    "If the file does not exist, a new file is created.\n",
    "\n",
    "The pointer is placed at the end of the file.\n",
    "\n",
    "Binary Mode ('b'):\n",
    "\n",
    "The file is opened in binary mode.\n",
    "\n",
    "It should be used in conjunction with read, write, or append mode, like 'rb', 'wb', or 'ab'.\n",
    "\n",
    "'t'       text mode (default)\n",
    "\n",
    "'+'       open a disk file for updating (reading and writing)\n",
    "\n",
    "'U'       universal newline mode (deprecated)"
   ]
  },
  {
   "cell_type": "markdown",
   "id": "21e9426d-c68d-4cc8-a15c-8f7d6e1dee88",
   "metadata": {},
   "source": [
    "Q2. Why close() function is used? Why is it important to close a file?"
   ]
  },
  {
   "cell_type": "markdown",
   "id": "90b09b2f-bb4d-4006-a3c8-f67b1b8a0bc3",
   "metadata": {},
   "source": [
    "The close() function in Python is used to close an open file. \n",
    "When a file is opened using the open() function, it creates a file object that represents the connection to the file on the disk. It is essential to close the file after reading from or writing to it.\n",
    "\n",
    "Closing a file is important for the following reasons:\n",
    "\n",
    "1. Release Resources: Closing a file releases the operating system resources used to manage the file, such as file buffers and file descriptors, preventing resource leaks and freeing up memory.\n",
    "\n",
    "2. Data Integrity: Closing a file ensures that all data is properly written to the disk, avoiding data loss or corruption that may occur if the file is not closed correctly.\n",
    "\n",
    "3. Avoid Locking: Leaving files open can lead to file locking issues, preventing other processes or threads from accessing the same file.\n",
    "\n",
    "4. Flush Buffered Data: Closing a file flushes any remaining data in the file buffer, ensuring all data is written before closing and reducing the risk of data loss in case of unexpected program termination."
   ]
  },
  {
   "cell_type": "markdown",
   "id": "160aca5a-4558-428b-8c1a-091569b761b7",
   "metadata": {},
   "source": [
    "Q3. Write a python program to create a text file. Write ‘I want to become a Data Scientist’ in that file. Then\n",
    "close the file. Open this file and read the content of the file."
   ]
  },
  {
   "cell_type": "code",
   "execution_count": 1,
   "id": "56cd835b-9616-4353-a2df-928d0ededa1a",
   "metadata": {},
   "outputs": [],
   "source": [
    "f = open(\"text.txt\" , 'w')\n",
    "f.write('I want to become a Data Scientist')\n",
    "f.close()"
   ]
  },
  {
   "cell_type": "code",
   "execution_count": 2,
   "id": "ee534a8d-30e0-4708-9f9b-86da2a797c69",
   "metadata": {},
   "outputs": [
    {
     "name": "stdout",
     "output_type": "stream",
     "text": [
      "I want to become a Data Scientist\n"
     ]
    }
   ],
   "source": [
    "f = open(\"text.txt\" , 'r')\n",
    "data = f.read()\n",
    "print(data)"
   ]
  },
  {
   "cell_type": "markdown",
   "id": "fc91132a-b6d9-4fb4-b91d-9f09bd4799aa",
   "metadata": {},
   "source": [
    "Q4. Explain the following with python code: read(), readline() and readlines()."
   ]
  },
  {
   "cell_type": "markdown",
   "id": "d3b0d5e3-e1fd-4872-a812-e4662f598c86",
   "metadata": {},
   "source": [
    "The read() method is used to read the entire content of a file as a single string.\n",
    "\n",
    "The readline() method is used to read a single line from the file.\n",
    "It reads characters from the current position of the file pointer until it encounters a newline character (\\n) or reaches the end of the file.\n",
    "\n",
    "The readlines() method is used to read all lines from the file and return them as a list of strings."
   ]
  },
  {
   "cell_type": "code",
   "execution_count": 3,
   "id": "eb2f0e6b-620a-47a8-8e52-6fc290a8fcc8",
   "metadata": {},
   "outputs": [],
   "source": [
    "f = open(\"text1.txt\" , 'w')\n",
    "f.write(\"The Full Stack Data Science course by PWSkills offers a comprehensive curriculum that equips learners with the skills and knowledge to excel in the rapidly evolving field of data science.\\nThrough hands-on projects and industry-relevant case studies, students will gain proficiency in every stage of the data science lifecycle. Join us to become a well-rounded data science professional capable of tackling real-world challenges.\")\n",
    "f.close()"
   ]
  },
  {
   "cell_type": "code",
   "execution_count": 4,
   "id": "bcc0b24c-7f38-4f46-b31a-411641eef857",
   "metadata": {},
   "outputs": [
    {
     "name": "stdout",
     "output_type": "stream",
     "text": [
      "The Full Stack Data Science course by PWSkills offers a comprehensive curriculum that equips learners with the skills and knowledge to excel in the rapidly evolving field of data science.\n",
      "Through hands-on projects and industry-relevant case studies, students will gain proficiency in every stage of the data science lifecycle. Join us to become a well-rounded data science professional capable of tackling real-world challenges.\n"
     ]
    }
   ],
   "source": [
    "f = open(\"text1.txt\" , 'r')\n",
    "a = f.read()\n",
    "print(a)"
   ]
  },
  {
   "cell_type": "code",
   "execution_count": 5,
   "id": "556e39e2-6bf7-4896-9fa9-c1ee0c813aa6",
   "metadata": {},
   "outputs": [
    {
     "name": "stdout",
     "output_type": "stream",
     "text": [
      "The Full Stack Data Science course by PWSkills offers a comprehensive curriculum that equips learners with the skills and knowledge to excel in the rapidly evolving field of data science.\n",
      "\n",
      "Through hands-on projects and industry-relevant case studies, students will gain proficiency in every stage of the data science lifecycle. Join us to become a well-rounded data science professional capable of tackling real-world challenges.\n"
     ]
    }
   ],
   "source": [
    "f = open(\"text1.txt\" , 'r')\n",
    "a = f.readline()\n",
    "b= f.readline()\n",
    "print(a)\n",
    "print(b)"
   ]
  },
  {
   "cell_type": "code",
   "execution_count": 6,
   "id": "bce7370c-5d85-484a-abe7-fd458deabb61",
   "metadata": {},
   "outputs": [
    {
     "name": "stdout",
     "output_type": "stream",
     "text": [
      "['The Full Stack Data Science course by PWSkills offers a comprehensive curriculum that equips learners with the skills and knowledge to excel in the rapidly evolving field of data science.\\n', 'Through hands-on projects and industry-relevant case studies, students will gain proficiency in every stage of the data science lifecycle. Join us to become a well-rounded data science professional capable of tackling real-world challenges.']\n"
     ]
    }
   ],
   "source": [
    "f = open(\"text1.txt\" , 'r')\n",
    "a = f.readlines()\n",
    "print(a)"
   ]
  },
  {
   "cell_type": "markdown",
   "id": "df28901a-cc35-4f7b-a8f9-b8f5871563dd",
   "metadata": {},
   "source": [
    "Q5. Explain why with statement is used with open(). What is the advantage of using with statement and\n",
    "open() together?"
   ]
  },
  {
   "cell_type": "markdown",
   "id": "dd09ad90-5f55-4c9c-aa57-68917f1e2a44",
   "metadata": {},
   "source": [
    "The with statement is used in conjunction with the open() function to provide a more convenient and safer way to handle files. The with statement ensures that the file is properly opened and closed, even if an exception occurs during file operations. It helps with proper resource management and ensures that the file is closed automatically, preventing resource leaks and potential data loss."
   ]
  },
  {
   "cell_type": "markdown",
   "id": "829dbd5a-ef2b-4589-bcab-bf7b305ae2a5",
   "metadata": {},
   "source": [
    "Q6. Explain the write() and writelines() functions. Give a suitable example."
   ]
  },
  {
   "cell_type": "markdown",
   "id": "12fe4a73-ef17-420f-9e3a-807399fc8da8",
   "metadata": {},
   "source": [
    "write():\n",
    "\n",
    "The write() function is used to write a single string or a sequence of characters to a file.\n",
    "It takes a single argument, which is the string or character sequence to be written to the file.\n",
    "\n",
    "writelines():\n",
    "\n",
    "The writelines() function is used to write a list of strings to a file.\n",
    "It takes a list of strings as an argument, and each string in the list is written as a separate line in the file."
   ]
  },
  {
   "cell_type": "code",
   "execution_count": 7,
   "id": "96470e77-f338-42c6-8c9d-35bbf7ad8b55",
   "metadata": {},
   "outputs": [],
   "source": [
    "with open(\"text2\", \"w\") as file:\n",
    "    file.write(\"Hello, this is a line.\\n\")\n",
    "    file.write(\"This is another line.\")"
   ]
  },
  {
   "cell_type": "code",
   "execution_count": 8,
   "id": "54d10d28-6b2f-43ec-af75-b579cb9721d8",
   "metadata": {},
   "outputs": [
    {
     "name": "stdout",
     "output_type": "stream",
     "text": [
      "Hello, this is a line.\n",
      "This is another line.\n"
     ]
    }
   ],
   "source": [
    "with open(\"text2\", \"r\") as file:\n",
    "    data = file.read()\n",
    "    print(data)"
   ]
  },
  {
   "cell_type": "code",
   "execution_count": 9,
   "id": "853078a4-a8ea-4ba5-80f4-47829cfacc90",
   "metadata": {},
   "outputs": [],
   "source": [
    "lines = [\"Data Science Masters course is highly curated and uniquely designed according to the latest industry standards.\\n\",\n",
    "         \"This program instills students the skills essential to knowledge discovery efforts to identify standard, novel, and truly differentiated solutions and decision-making, including skills in managing, querying, analyzing, visualizing, and extracting meaning from extremely large data sets\\n\",\n",
    "         \"This trending program provides students with the statistical, mathematical and computational skills needed to meet the large-scale data science challenges of today's professional world.\\n\"]\n",
    "\n",
    "with open(\"text3.txt\", \"w\") as file:\n",
    "    file.writelines(lines)\n"
   ]
  },
  {
   "cell_type": "code",
   "execution_count": 10,
   "id": "d87a30b0-4b0c-4711-a5fa-605422e77bc9",
   "metadata": {},
   "outputs": [
    {
     "name": "stdout",
     "output_type": "stream",
     "text": [
      "['Data Science Masters course is highly curated and uniquely designed according to the latest industry standards.\\n', 'This program instills students the skills essential to knowledge discovery efforts to identify standard, novel, and truly differentiated solutions and decision-making, including skills in managing, querying, analyzing, visualizing, and extracting meaning from extremely large data sets\\n', \"This trending program provides students with the statistical, mathematical and computational skills needed to meet the large-scale data science challenges of today's professional world.\\n\"]\n"
     ]
    }
   ],
   "source": [
    "f = open(\"text3.txt\" , 'r')\n",
    "a = f.readlines()\n",
    "print(a)"
   ]
  }
 ],
 "metadata": {
  "kernelspec": {
   "display_name": "Python 3 (ipykernel)",
   "language": "python",
   "name": "python3"
  },
  "language_info": {
   "codemirror_mode": {
    "name": "ipython",
    "version": 3
   },
   "file_extension": ".py",
   "mimetype": "text/x-python",
   "name": "python",
   "nbconvert_exporter": "python",
   "pygments_lexer": "ipython3",
   "version": "3.10.8"
  }
 },
 "nbformat": 4,
 "nbformat_minor": 5
}
