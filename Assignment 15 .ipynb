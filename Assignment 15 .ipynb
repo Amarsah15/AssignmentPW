{
 "cells": [
  {
   "cell_type": "markdown",
   "id": "41ec658a-f929-40fa-8f8e-c02cd2ddb517",
   "metadata": {},
   "source": [
    "Q1. What is a database? Differentiate between SQL and NoSQL databases."
   ]
  },
  {
   "cell_type": "markdown",
   "id": "6f7d7930-598f-4b63-9643-c72e3054e92e",
   "metadata": {},
   "source": [
    "A database is an organized collection of structured information, or data, typically stored electronically in a computer system.\n",
    "\n",
    "SQL and NoSQL databases are two types of databases that differ in how the data is structured and accessed. SQL databases are table-based, while NoSQL databases are non-relational. This means that a SQL database contains structured data and can perform an analysis using a relational mode. A NoSQL database can contain key-value pairs, documents, or graph structures and can handle unstructured data and scalability better than SQL databases."
   ]
  },
  {
   "cell_type": "markdown",
   "id": "9563b2f0-1a27-4bd7-a196-b801d84bccb5",
   "metadata": {},
   "source": [
    "Q2. What is DDL? Explain why CREATE, DROP, ALTER, and TRUNCATE are used with an example."
   ]
  },
  {
   "cell_type": "markdown",
   "id": "1e8aa573-95dd-45c7-b62b-34ba50426896",
   "metadata": {},
   "source": [
    "DDL stands for Data Definition Language. It is the part of SQL that deals with creating, modifying and deleting the structure of database tables, columns, indexes, etc\n",
    "\n",
    "CREATE: Used to create a new database object, such as a table.\n",
    "\n",
    "DROP: Used to delete an existing database table.\n",
    "\n",
    "ALTER: Used to modify an existing database object, such as adding, renaming or deleting a column in a table.\n",
    "\n",
    "TRUNCATE: Used to delete all the data from a table, but not the table itself."
   ]
  },
  {
   "cell_type": "raw",
   "id": "18ecb952-f28a-4f35-b121-a1a24d3ad5a1",
   "metadata": {},
   "source": [
    "#Create\n",
    "import mysql.connector\n",
    "mydb = mysql.connector.connect(\n",
    "  host=\"localhost\",\n",
    "  user=\"abc\",\n",
    "  password=\"password\"\n",
    ")\n",
    "print(mydb)\n",
    "mycursor = mydb.cursor()\n",
    "mycursor.execute(\"CREATE DATABASE if not exists assignment\")\n",
    "mydb.close()"
   ]
  },
  {
   "cell_type": "raw",
   "id": "dac058cb-eaae-4f04-8cb3-fd7f4c910266",
   "metadata": {},
   "source": [
    "#Create\n",
    "import mysql.connector\n",
    "mydb = mysql.connector.connect(\n",
    "  host=\"localhost\",\n",
    "  user=\"abc\",\n",
    "  password=\"password\"\n",
    ")\n",
    "print(mydb)\n",
    "mycursor = mydb.cursor()\n",
    "mycursor.execute(\"CREATE TABLE Assignment.students(id INT, name VARCHAR(50), age INT)\")\n",
    "mydb.close()"
   ]
  },
  {
   "cell_type": "raw",
   "id": "6b08144c-26b3-44c8-90cb-5d6747adecec",
   "metadata": {},
   "source": [
    "#Alter\n",
    "import mysql.connector\n",
    "mydb = mysql.connector.connect(\n",
    "  host=\"localhost\",\n",
    "  user=\"abc\",\n",
    "  password=\"password\"\n",
    ")\n",
    "print(mydb)\n",
    "mycursor = mydb.cursor()\n",
    "addColumn = \"ALTER TABLE students ADD COLUMN email varchar(32)\"\n",
    "mycursor.execute(addColumn)\n",
    "mydb.close()"
   ]
  },
  {
   "cell_type": "raw",
   "id": "74fbe4e5-2ed3-4a24-85fb-79b4286795da",
   "metadata": {},
   "source": [
    "#Drop\n",
    "import mysql.connector\n",
    "mydb = mysql.connector.connect(\n",
    "  host=\"localhost\",\n",
    "  user=\"abc\",\n",
    "  password=\"password\"\n",
    ")\n",
    "print(mydb)\n",
    "mycursor = mydb.cursor()\n",
    "mycursor.execute(\"DROP TABLE IF EXISTS students\")\n",
    "print(\"Table dropped... \")\n",
    "mydb.close()"
   ]
  },
  {
   "cell_type": "raw",
   "id": "40873db4-2416-4d04-b80e-8abd74ede1d9",
   "metadata": {},
   "source": [
    "#TRUNCATE\n",
    "import mysql.connector\n",
    "mydb = mysql.connector.connect(\n",
    "  host=\"localhost\",\n",
    "  user=\"abc\",\n",
    "  password=\"password\"\n",
    ")\n",
    "print(mydb)\n",
    "mycursor = mydb.cursor()\n",
    "mycursor.execute(\"TRUNCATE TABLE students\")\n",
    "print(\"Table Truncate... \")\n",
    "mydb.close()"
   ]
  },
  {
   "cell_type": "markdown",
   "id": "92e13673-bc2b-488b-aab5-35f7cf5ae498",
   "metadata": {},
   "source": [
    "Q3. What is DML? Explain INSERT, UPDATE, and DELETE with an example."
   ]
  },
  {
   "cell_type": "markdown",
   "id": "018e8f2e-31f2-4a8a-8acc-9d239f7f887f",
   "metadata": {},
   "source": [
    "DML stands for Data Manipulation Language, which is a subset of SQL commands that are used to insert, update, and delete data from a database.\n",
    "\n",
    "INSERT: It is used to insert data into a table.\n",
    "\n",
    "UPDATE: It is used to update existing data within a table.\n",
    "\n",
    "DELETE: It is used to delete records from a database table."
   ]
  },
  {
   "cell_type": "raw",
   "id": "4ede0ac3-5e4a-4742-bc8e-8d1d3d86b464",
   "metadata": {},
   "source": [
    "#Create\n",
    "import mysql.connector\n",
    "mydb = mysql.connector.connect(\n",
    "  host=\"localhost\",\n",
    "  user=\"abc\",\n",
    "  password=\"password\"\n",
    ")\n",
    "print(mydb)\n",
    "mycursor = mydb.cursor()\n",
    "mycursor.execute(\"CREATE DATABASE if not exists assignment\")\n",
    "mydb.close()"
   ]
  },
  {
   "cell_type": "raw",
   "id": "c1dad36b-1c34-4d32-b9e5-f9edb393a3bb",
   "metadata": {},
   "source": [
    "#Create\n",
    "import mysql.connector\n",
    "mydb = mysql.connector.connect(\n",
    "  host=\"localhost\",\n",
    "  user=\"abc\",\n",
    "  password=\"password\"\n",
    ")\n",
    "print(mydb)\n",
    "mycursor = mydb.cursor()\n",
    "mycursor.execute(\"CREATE TABLE Assignment.students(id INT, name VARCHAR(50), age INT)\")\n",
    "mydb.close()"
   ]
  },
  {
   "cell_type": "raw",
   "id": "76d2d70a-bc8a-47f8-bbdf-0575149dca51",
   "metadata": {},
   "source": [
    "#Insert\n",
    "import mysql.connector\n",
    "mydb = mysql.connector.connect(\n",
    "  host=\"localhost\",\n",
    "  user=\"abc\",\n",
    "  password=\"password\"\n",
    ")\n",
    "print(mydb)\n",
    "mycursor = mydb.cursor()\n",
    "mycursor.execute(\"insert into assignment.students values(1 , 'abcd' , 18 )\")\n",
    "mycursor.execute(\"insert into assignment.students values(2 , 'efgh' , 19 )\")\n",
    "mydb.close()"
   ]
  },
  {
   "cell_type": "raw",
   "id": "c9d111bf-3a15-4fd7-b9b6-782887429d70",
   "metadata": {},
   "source": [
    "#UPDATE\n",
    "import mysql.connector\n",
    "mydb = mysql.connector.connect(\n",
    "  host=\"localhost\",\n",
    "  user=\"abc\",\n",
    "  password=\"password\"\n",
    ")\n",
    "print(mydb)\n",
    "mycursor = mydb.cursor()\n",
    "mycursor.execute(\"UPDATE students SET name='abcd' WHERE id=1\")\n",
    "mydb.close()"
   ]
  },
  {
   "cell_type": "raw",
   "id": "5a4229e2-216c-4f72-9e14-aaf66395b52d",
   "metadata": {},
   "source": [
    "#Delete\n",
    "import mysql.connector\n",
    "mydb = mysql.connector.connect(\n",
    "  host=\"localhost\",\n",
    "  user=\"abc\",\n",
    "  password=\"password\"\n",
    ")\n",
    "print(mydb)\n",
    "mycursor = mydb.cursor()\n",
    "mycursor.execute(\"DELETE FROM students WHERE id=1\")\n",
    "mydb.close()"
   ]
  },
  {
   "cell_type": "markdown",
   "id": "bb5d36a3-4aa5-4be2-b026-0bae588a8fd0",
   "metadata": {},
   "source": [
    "Q4. What is DQL? Explain SELECT with an example."
   ]
  },
  {
   "cell_type": "markdown",
   "id": "28dccc02-0664-4eb8-bee2-ae0d079ea814",
   "metadata": {},
   "source": [
    "DQL stands for Data Query Language, which is a subset of SQL that is used to retrieve data from a database.\n",
    "\n",
    "SELECT: This command allows getting the data out of the database to perform operations with it."
   ]
  },
  {
   "cell_type": "raw",
   "id": "06ce304a-b503-49d1-9725-b3c6cb12ec97",
   "metadata": {},
   "source": [
    "#Select\n",
    "import mysql.connector\n",
    "mydb = mysql.connector.connect(\n",
    "  host=\"localhost\",\n",
    "  user=\"abc\",\n",
    "  password=\"password\"\n",
    ")\n",
    "print(mydb)\n",
    "mycursor = mydb.cursor()\n",
    "mycursor.execute(\"select c1 , c3 from test2.test_table\")\n",
    "for i in mycursor.fetchall() : \n",
    "    print(i)\n",
    "mydb.close()"
   ]
  },
  {
   "cell_type": "markdown",
   "id": "4633f7b3-4b4b-405c-a212-ab3ba04602c4",
   "metadata": {},
   "source": [
    "Q5. Explain Primary Key and Foreign Key."
   ]
  },
  {
   "cell_type": "markdown",
   "id": "8d17769d-80ee-4e11-a95a-d742426527cf",
   "metadata": {},
   "source": [
    "A primary key is a column or a set of columns that uniquely identifies each row in a table.\n",
    "Only one primary key is allowed in a table.\n",
    "It is a combination of UNIQUE and Not Null constraints.\n",
    "It does not allow NULL values.\n",
    "\n",
    "A foreign key is a column or a set of columns that refers to the primary key of another table, and establishes a relationship between the two tables.\n",
    "Whereas more than one foreign key is allowed in a table.\n",
    "It can contain duplicate values and a table in a relational database.\n",
    "It can also contain NULL values."
   ]
  },
  {
   "cell_type": "markdown",
   "id": "2296d926-2151-4d73-bc0f-2796492527a1",
   "metadata": {},
   "source": [
    "Q6. Write a python code to connect MySQL to python. Explain the cursor() and execute() method."
   ]
  },
  {
   "cell_type": "raw",
   "id": "f8b2685f-1170-4103-bd90-4d8cdaf6c0aa",
   "metadata": {},
   "source": [
    "import mysql.connector\n",
    "mydb = mysql.connector.connect(\n",
    "  host=\"localhost\",\n",
    "  user=\"abc\",\n",
    "  password=\"password\"\n",
    ")\n",
    "print(mydb)\n",
    "mycursor = mydb.cursor()\n",
    "mycursor.execute(\"SHOW DATABASES\")\n",
    "for x in mycursor:\n",
    "  print(x)"
   ]
  },
  {
   "cell_type": "markdown",
   "id": "26d638dd-a53c-4949-8f68-b8201981500f",
   "metadata": {},
   "source": [
    "The cursor() and execute() methods are used to interact with a database using SQL commands. The cursor() method creates a cursor object that can execute SQL statements and fetch results from queries. The execute() method takes an SQL operation as an argument and executes it on the database."
   ]
  },
  {
   "cell_type": "markdown",
   "id": "460ade39-fa8a-4074-be61-784453794c78",
   "metadata": {},
   "source": [
    "Q7. Give the order of execution of SQL clauses in an SQL query."
   ]
  },
  {
   "cell_type": "raw",
   "id": "dae2fb21-bddf-4961-aecf-05e3d68ae611",
   "metadata": {},
   "source": [
    "FROM clause\n",
    "ON clause\n",
    "OUTER clause\n",
    "WHERE clause\n",
    "GROUP BY clause\n",
    "HAVING clause\n",
    "SELECT clause\n",
    "DISTINCT clause\n",
    "ORDER BY clause\n",
    "TOP clause"
   ]
  }
 ],
 "metadata": {
  "kernelspec": {
   "display_name": "Python 3 (ipykernel)",
   "language": "python",
   "name": "python3"
  },
  "language_info": {
   "codemirror_mode": {
    "name": "ipython",
    "version": 3
   },
   "file_extension": ".py",
   "mimetype": "text/x-python",
   "name": "python",
   "nbconvert_exporter": "python",
   "pygments_lexer": "ipython3",
   "version": "3.10.8"
  }
 },
 "nbformat": 4,
 "nbformat_minor": 5
}
