{
 "cells": [
  {
   "cell_type": "markdown",
   "id": "369b64cb-a33f-48da-ae79-1ba17e27941e",
   "metadata": {},
   "source": [
    "Q1. What is Web Scraping? Why is it Used? Give three areas where Web Scraping is used to get data."
   ]
  },
  {
   "cell_type": "markdown",
   "id": "259a0fd2-91bd-439a-97b6-066686dcbb04",
   "metadata": {},
   "source": [
    "Web scraping is an automatic method to obtain large amounts of data from websites. Most of this data is unstructured data in an HTML format which is then converted into structured data in a database so that it can be used in various applications.\n",
    "\n",
    "People primarily use web scraping for obtaining and organizing data.\n",
    "\n",
    "Web Scraping can be used in:\n",
    "1. Price Monitoring\n",
    "2. Market Research of a product\n",
    "3. News Monitoring\n",
    "\n",
    "Area where web scraping is used are in the field of big data analytics, artificial intelligence, and machine learning."
   ]
  },
  {
   "cell_type": "markdown",
   "id": "2de0dc02-17bc-4638-bdc6-6898cbe6521a",
   "metadata": {},
   "source": [
    "Q2. What are the different methods used for Web Scraping?"
   ]
  },
  {
   "cell_type": "markdown",
   "id": "8ede8046-84b4-465c-ab3e-182ca5d5b5e9",
   "metadata": {},
   "source": [
    "The most common techniques used for Web Scraping are:\n",
    "1. Human copy-and-paste.\n",
    "2. Text pattern matching.\n",
    "3. HTTP programming.\n",
    "4. HTML parsing.\n",
    "5. DOM parsing.\n",
    "6. Vertical aggregation.\n",
    "7. Semantic annotation recognizing.\n",
    "8. Computer vision web-page analysis."
   ]
  },
  {
   "cell_type": "markdown",
   "id": "89714014-9f12-4f1f-aee6-b8df33acf64a",
   "metadata": {},
   "source": [
    "Q3. What is Beautiful Soup? Why is it used?"
   ]
  },
  {
   "cell_type": "markdown",
   "id": "36259436-841a-4dd8-912b-7cc43464d41a",
   "metadata": {},
   "source": [
    "Beautiful Soup is a python package and as the name suggests, parses the unwanted data and helps to organize and format the messy web data by fixing bad HTML and present to us in an easily-traversible structures.\n",
    "\n",
    "It helps to organize and format messy web data by fixing bad HTML and presenting it in easily-traversable XML structures."
   ]
  },
  {
   "cell_type": "markdown",
   "id": "745475d9-b62a-4253-9292-2c890ca3fa32",
   "metadata": {},
   "source": [
    "Q4. Why is flask used in this Web Scraping project?"
   ]
  },
  {
   "cell_type": "markdown",
   "id": "52f8dda2-1cfb-4e12-9e3d-087c5aa7cd4d",
   "metadata": {},
   "source": [
    "It is used in web scraping projects to parse collected data and display it as HTML.\n",
    "\n",
    "It is used to create a simple and straightforward web interface to display the data that has been gathered from scraping websites."
   ]
  },
  {
   "cell_type": "markdown",
   "id": "588ad600-20fb-44db-b210-fda90586a42a",
   "metadata": {},
   "source": [
    "Q5. Write the names of AWS services used in this project. Also, explain the use of each service."
   ]
  },
  {
   "cell_type": "markdown",
   "id": "5c0880a1-9c5c-48cb-b441-f78bb8812e38",
   "metadata": {},
   "source": [
    "AWS CodePipeline\n",
    "\n",
    "AWS Elastic Beanstalk\n",
    "\n",
    "AWS CodePipeline is a continuous delivery service that helps you automate your release pipelines for fast and reliable application and infrastructure updates.\n",
    "\n",
    "AWS Elastic Beanstalk is a service for deploying and scaling web applications and services. You can upload your code and Elastic Beanstalk automatically handles the deployment, from capacity provisioning, load balancing, and auto-scaling to application health monitoring."
   ]
  }
 ],
 "metadata": {
  "kernelspec": {
   "display_name": "Python 3 (ipykernel)",
   "language": "python",
   "name": "python3"
  },
  "language_info": {
   "codemirror_mode": {
    "name": "ipython",
    "version": 3
   },
   "file_extension": ".py",
   "mimetype": "text/x-python",
   "name": "python",
   "nbconvert_exporter": "python",
   "pygments_lexer": "ipython3",
   "version": "3.10.8"
  }
 },
 "nbformat": 4,
 "nbformat_minor": 5
}
