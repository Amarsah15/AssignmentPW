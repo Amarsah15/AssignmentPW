{
 "cells": [
  {
   "cell_type": "markdown",
   "id": "2c7ec3ce-0202-4a08-8453-df99b61ee912",
   "metadata": {},
   "source": [
    "Q1. Create a function which will take a list as an argument and return the product of all the numbers\n",
    "after creating a flat list.\n",
    "Use the below-given list as an argument for your function.\n",
    "list1 = [1,2,3,4, [44,55,66, True], False, (34,56,78,89,34), {1,2,3,3,2,1}, {1:34, \"key2\": [55, 67, 78, 89], 4: (45,\n",
    "22, 61, 34)}, [56, 'data science'], 'Machine Learning']\n",
    "Note: you must extract numeric keys and values of the dictionary also."
   ]
  },
  {
   "cell_type": "code",
   "execution_count": 1,
   "id": "f10ce8f0-3764-4482-9df0-a5386ced4c9a",
   "metadata": {},
   "outputs": [
    {
     "name": "stdout",
     "output_type": "stream",
     "text": [
      "List [1, 2, 3, 4, [44, 55, 66, True], False, (34, 56, 78, 89, 34), {1, 2, 3}, {1: 34, 'key2': [55, 67, 78, 89], 4: (45, 22, 61, 34)}, [56, 'data science'], 'Machine Learning']\n",
      "Flat List [1, 2, 3, 4, 44, 55, 66, True, False, 34, 56, 78, 89, 34, 1, 2, 3, 34, 55, 67, 78, 89, 45, 22, 61, 34, 56, 'data science', 'Machine Learning']\n"
     ]
    }
   ],
   "source": [
    "def flat(lis):\n",
    "\tflatList = []\n",
    "\tfor element in lis:\n",
    "        \n",
    "\t\tif type(element) == list:\n",
    "\t\t\tfor i in element:\n",
    "\t\t\t\tflatList.append(i)\n",
    "\t\t\n",
    "\t\telif type(element) == tuple:\n",
    "\t\t    for i in element:\n",
    "\t\t        flatList.append(i)\n",
    "\t\t \n",
    "\t\telif type(element) == set:\n",
    "\t\t    for i in element:\n",
    "\t\t        flatList.append(i)\n",
    "\t\t\n",
    "\t\telif type(element) == dict:\n",
    "\t\t    my_dict=element\n",
    "\t\t    for i in my_dict.values():\n",
    "\t\t        if type(i) == list:\n",
    "\t\t            for j in i:\n",
    "\t\t                flatList.append(j)\n",
    "\t\t        elif type(i) == tuple:\n",
    "\t\t            for j in i:\n",
    "\t\t                flatList.append(j)\n",
    "\t\t        else:\n",
    "\t\t            flatList.append(i)\n",
    "\t\t\n",
    "\t\telse:\n",
    "\t\t\tflatList.append(element)\n",
    "            \n",
    "\treturn flatList\n",
    "\n",
    "list1 = [1,2,3,4, [44,55,66, True], False, (34,56,78,89,34), {1,2,3,3,2,1}, {1:34, \"key2\": [55, 67, 78, 89], 4: (45,\n",
    "22, 61, 34)}, [56, 'data science'], 'Machine Learning']\n",
    "print('List', list1)\n",
    "print('Flat List', flat(list1))"
   ]
  },
  {
   "cell_type": "markdown",
   "id": "05caa6e7-c607-4c40-8598-30ee37abb3c4",
   "metadata": {},
   "source": [
    "Q2. Write a python program for encrypting a message sent to you by your friend. The logic of encryption\n",
    "should be such that, for a the output should be z. For b, the output should be y. For c, the output should\n",
    "be x respectively. Also, the whitespace should be replaced with a dollar sign. Keep the punctuation\n",
    "marks unchanged.\n",
    "Input Sentence: I want to become a Data Scientist.\n",
    "Encrypt the above input sentence using the program you just created.\n",
    "Note: Convert the given input sentence into lowercase before encrypting. The final output should be\n",
    "lowercase."
   ]
  },
  {
   "cell_type": "code",
   "execution_count": 3,
   "id": "d865a421-96b9-4940-beaa-08b5b09e27e8",
   "metadata": {},
   "outputs": [
    {
     "name": "stdout",
     "output_type": "stream",
     "text": [
      "r$dzmg$gl$yvxlnv$z$wzgz$hxrvmgrhg.\n"
     ]
    }
   ],
   "source": [
    "data = \"I want to become a Data Scientist.\".lower()\n",
    "lc=\"abcdefghijklmnopqrstuvwxyz\"\n",
    "rlc=la[::-1]\n",
    "converted_data = \"\"\n",
    "for i in data:\n",
    "    if i in lc:\n",
    "        converted_data+=rlc[lc.index(i)]\n",
    "    elif i == \" \":\n",
    "        converted_data+=\"$\"\n",
    "    else:\n",
    "        converted_data+=i\n",
    "print(converted_data)"
   ]
  },
  {
   "cell_type": "code",
   "execution_count": null,
   "id": "6e8a3cc5-c56b-4e02-8f0c-2b2a6df21845",
   "metadata": {},
   "outputs": [],
   "source": []
  }
 ],
 "metadata": {
  "kernelspec": {
   "display_name": "Python 3 (ipykernel)",
   "language": "python",
   "name": "python3"
  },
  "language_info": {
   "codemirror_mode": {
    "name": "ipython",
    "version": 3
   },
   "file_extension": ".py",
   "mimetype": "text/x-python",
   "name": "python",
   "nbconvert_exporter": "python",
   "pygments_lexer": "ipython3",
   "version": "3.10.8"
  }
 },
 "nbformat": 4,
 "nbformat_minor": 5
}
