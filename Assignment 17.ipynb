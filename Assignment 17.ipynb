{
 "cells": [
  {
   "cell_type": "markdown",
   "id": "4a1fa11f-0d6e-4529-9717-f6b5ab22dddb",
   "metadata": {},
   "source": [
    "Q1. What is an API? Give an example, where an API is used in real life."
   ]
  },
  {
   "cell_type": "markdown",
   "id": "69af0e26-765f-42f6-9848-e3a4d51181a7",
   "metadata": {},
   "source": [
    "An API is an Application Programming Interface. It is a way for two applications or services to communicate with one another by exposing some of their functions or data.\n",
    "\n",
    "For example, when you log in to a website using your Google account, you are using an API that allows the website to access your Google profile information"
   ]
  },
  {
   "cell_type": "markdown",
   "id": "45c326fa-0b96-45f6-a5a6-fa848699457f",
   "metadata": {},
   "source": [
    "Q2. Give advantages and disadvantages of using API."
   ]
  },
  {
   "cell_type": "markdown",
   "id": "d32aaa06-0995-4fd5-9a32-88702dfa6fbf",
   "metadata": {},
   "source": [
    "Advantages:\n",
    "\n",
    "1. API solutions enable different software systems to communicate with each other, regardless of their programming language or platform. This enhances the interoperability between systems, allowing for the exchange of data and functionality.\n",
    "\n",
    "2. APIs bring a new level of modularity to applications. APIs allow developers to leverage the expertise of other applications and reuse existing components, rather than reinventing the wheel.\n",
    "\n",
    "3. Reduced development time and cost: APIs can speed up the development process and lower the cost by providing ready-made solutions for common tasks and problems. APIs can also automate some aspects of the development, such as security, access, and mappings.\n",
    "\n",
    "Disadvantages:\n",
    "\n",
    "1. Increased security risk: As a single point of entry, an API is a gateway and can become a hacker’s primary target. Once the API is compromised, all other applications and systems become vulnerable. Therefore, APIs need to implement strong security measures, such as encryption, authentication, and authorization"
   ]
  },
  {
   "cell_type": "markdown",
   "id": "9088284c-a041-4367-8032-e5d6b96cf542",
   "metadata": {},
   "source": [
    "Q3. What is a Web API? Differentiate between API and Web API."
   ]
  },
  {
   "cell_type": "markdown",
   "id": "566e4b1f-9312-47ab-a474-b3a2344c5b9b",
   "metadata": {},
   "source": [
    "A Web API is an application programming interface for the Web.\n",
    "\n",
    "An API is a set of rules and specifications that define how different software components or applications can communicate and exchange data.\n",
    "\n",
    "A Web API is a type of API that uses the web as the medium of communication. A Web API can be accessed using HTTP methods such as GET, POST, PUT, DELETE etc. and can return data in various formats."
   ]
  },
  {
   "cell_type": "markdown",
   "id": "4285cb3d-0b6c-4bf2-a34a-9d8cd98aa4ff",
   "metadata": {},
   "source": [
    "Q4. Explain REST and SOAP Architecture. Mention shortcomings of SOAP."
   ]
  },
  {
   "cell_type": "markdown",
   "id": "c449e71e-1c04-4eaa-ab43-93d1eecbc825",
   "metadata": {},
   "source": [
    "REST stands for Representational State Transfer. It is an architectural style that provides standards between computer systems on a web service. It is a set of constraints used to create a lightweight, scalable, and maintainable web service that facilitates easy communication. It is a set of constraints used to create a lightweight, scalable and maintainable web service that makes easy communication with each other.\n",
    "\n",
    "SOAP stands for Simple Object Access Protocol is a network platform used in a web service to exchange or communicate data between two different machines on a network. It uses the XML format of data to transfer messages over the HTTP protocol. In Web services, SOAP allows the user request to interact with other programming languages.\n",
    "\n",
    "Some shortcomings of SOAP include:\n",
    "\n",
    "SOAP is used only XML format data in web service, whereas JSON and other lightweight formats are not supported by it.\n",
    "\n",
    "It is slow because it uses XML format, whereas the payload for a simple string message is large."
   ]
  },
  {
   "cell_type": "markdown",
   "id": "0637267a-f57d-4f44-9550-0c14130c30ca",
   "metadata": {},
   "source": [
    "Q5. Differentiate between REST and SOAP."
   ]
  },
  {
   "cell_type": "markdown",
   "id": "0c538cf2-4871-497f-8358-208997a56e56",
   "metadata": {},
   "source": [
    "REST \n",
    "\n",
    "1. It is not a protocol. It is an architectural style for distributed hypermedia system.\n",
    "2. REST requires less bandwidth and resources as compared to SOAP.\n",
    "3. It is not specifically applied that the message format must be XML or JSON, etc.\n",
    "4. It has better performance as compared to SOAP, less CPU intensive, lesser code, etc.\n",
    "5. It is a lightweight, scalable and maintainable.\n",
    "6. It relies on the HTTP protocol for communication between two machines.\n",
    "\n",
    "SOAP \n",
    "\n",
    "1. It is XML based messaging protocol.\n",
    "2. It needs more bandwidth and resources for better web performance.\n",
    "3. SOAP enforces XML as a message format.\n",
    "4. It has not great performance as compared to REST\n",
    "5. SOAP is a heavyweight XML protocol that requires more coding to send a message.\n",
    "6. SOAP messages are wrapped in an envelope and sent to any transport mechanism such as SMTP, FTP, HTTP or any protocol."
   ]
  }
 ],
 "metadata": {
  "kernelspec": {
   "display_name": "Python 3 (ipykernel)",
   "language": "python",
   "name": "python3"
  },
  "language_info": {
   "codemirror_mode": {
    "name": "ipython",
    "version": 3
   },
   "file_extension": ".py",
   "mimetype": "text/x-python",
   "name": "python",
   "nbconvert_exporter": "python",
   "pygments_lexer": "ipython3",
   "version": "3.10.8"
  }
 },
 "nbformat": 4,
 "nbformat_minor": 5
}
