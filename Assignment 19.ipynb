{
 "cells": [
  {
   "cell_type": "markdown",
   "id": "a32652c2-e125-4a59-aaf0-4907b75a3a0b",
   "metadata": {},
   "source": [
    "Q1. Explain GET and POST methods."
   ]
  },
  {
   "cell_type": "markdown",
   "id": "bc5459aa-d514-496b-b97c-a14cd25ff7de",
   "metadata": {},
   "source": [
    "GET is used to request data from a specified resource. The query string (name/value pairs) is sent in the URL of a GET request.\n",
    "\n",
    "POST is used to send data to a server to create/update a resource. The data sent to the server with POST is stored in the request body of the HTTP request."
   ]
  },
  {
   "cell_type": "markdown",
   "id": "97a1e08b-8396-4042-9d56-f62aa78eaecd",
   "metadata": {},
   "source": [
    "Q2. Why is request used in Flask?"
   ]
  },
  {
   "cell_type": "markdown",
   "id": "f1a25e7b-faa2-4079-9e52-0170a8a1e507",
   "metadata": {},
   "source": [
    "The Request, is an object that contains all the data sent from the Client to Server. This data can be recovered using the GET/POST Methods."
   ]
  },
  {
   "cell_type": "markdown",
   "id": "63cf785a-7eab-4d9f-a279-6cbd0e23e8d9",
   "metadata": {},
   "source": [
    "Q3. Why is redirect() used in Flask?"
   ]
  },
  {
   "cell_type": "markdown",
   "id": "3bd74427-4476-420c-8312-651ba7540c84",
   "metadata": {},
   "source": [
    "The redirect() function is used in Flask to redirect the user to a different target location with a specified status code. This can be useful in various scenarios, such as redirecting a user to a login page if they are not authenticated or redirecting them to a different page after they have successfully submitted a form."
   ]
  },
  {
   "cell_type": "markdown",
   "id": "6173b2cf-03a3-4b44-b237-c26a4fe0c7f7",
   "metadata": {},
   "source": [
    "Q4. What are templates in Flask? Why is the render_template() function used?"
   ]
  },
  {
   "cell_type": "markdown",
   "id": "e1f6f50b-2754-45a6-9843-7e665c8e6663",
   "metadata": {},
   "source": [
    "A template is just a text file which contains static HTML code as well as some special markup denoting dynamic content that will be known at the time of the request.\n",
    "\n",
    "The render_template() function is used to render HTML templates in Flask."
   ]
  },
  {
   "cell_type": "markdown",
   "id": "967e9d44-066d-4ded-8887-0b8e21add3e7",
   "metadata": {},
   "source": [
    "Q5. Create a simple API. Use Postman to test it. Attach the screenshot of the output in the Jupyter Notebook."
   ]
  },
  {
   "cell_type": "code",
   "execution_count": null,
   "id": "9427aa6b-1710-4320-8051-678ea74ddde0",
   "metadata": {},
   "outputs": [],
   "source": [
    "from flask import Flask,render_template,request,jsonify\n",
    "\n",
    "app = Flask(__name__)\n",
    "\n",
    "@app.route('/', methods = ['GET' ,'POST'])\n",
    "def home_page():\n",
    "    return render_template('index.html')\n",
    "\n",
    "@app.route('/postman_form', methods = ['POST'])\n",
    "def maths_operation1():\n",
    "    if(request.method == 'POST'):\n",
    "        ops = request.json['operation']\n",
    "        num1 = int(request.json['num1'])\n",
    "        num2 = int(request.json['num2'])\n",
    "        if(ops == 'add'):\n",
    "            r = num1+num2\n",
    "            result = 'the sum of'+' '+str(num1)+' '+'and'+' '+str(num2)+' '+\"is equal to\"+' '+str(r)\n",
    "        return jsonify(result)\n",
    "\n",
    "if __name__==\"__main__\":\n",
    "    app.run(host=\"0.0.0.0\")"
   ]
  },
  {
   "cell_type": "code",
   "execution_count": 1,
   "id": "5416495a-48cd-494e-830c-b7ddd808b79f",
   "metadata": {},
   "outputs": [
    {
     "data": {
      "text/html": [
       "<img src=\"ss3.png\" width=\"300\" height=\"300\"/>"
      ],
      "text/plain": [
       "<IPython.core.display.Image object>"
      ]
     },
     "execution_count": 1,
     "metadata": {},
     "output_type": "execute_result"
    }
   ],
   "source": [
    "# import image module\n",
    "from IPython.display import Image\n",
    "\n",
    "# get the image\n",
    "Image(url=\"ss3.png\", width=300, height=300)"
   ]
  }
 ],
 "metadata": {
  "kernelspec": {
   "display_name": "Python 3 (ipykernel)",
   "language": "python",
   "name": "python3"
  },
  "language_info": {
   "codemirror_mode": {
    "name": "ipython",
    "version": 3
   },
   "file_extension": ".py",
   "mimetype": "text/x-python",
   "name": "python",
   "nbconvert_exporter": "python",
   "pygments_lexer": "ipython3",
   "version": "3.10.8"
  }
 },
 "nbformat": 4,
 "nbformat_minor": 5
}
