{
 "cells": [
  {
   "cell_type": "markdown",
   "id": "bbc09ca4-e5b6-460d-ba9a-895e192b4794",
   "metadata": {},
   "source": [
    "Q1. You are writing code for a company. The requirement of the company is that you create a python\n",
    "function that will check whether the password entered by the user is correct or not. The function should\n",
    "take the password as input and return the string “Valid Password” if the entered password follows the\n",
    "below-given password guidelines else it should return “Invalid Password”.\n",
    "Note: 1. The Password should contain at least two uppercase letters and at least two lowercase letters.\n",
    "2. The Password should contain at least a number and three special characters.\n",
    "3. The length of the password should be 10 characters long."
   ]
  },
  {
   "cell_type": "code",
   "execution_count": 1,
   "id": "7596599a-39c5-400e-8fa7-8b463489c31d",
   "metadata": {},
   "outputs": [
    {
     "name": "stdin",
     "output_type": "stream",
     "text": [
      "Enter your password ABCabc123@#$\n"
     ]
    },
    {
     "name": "stdout",
     "output_type": "stream",
     "text": [
      "Valid Password\n"
     ]
    }
   ],
   "source": [
    "a=input(\"Enter your password\")\n",
    "lc=\"abcdefghijklmnopqrstuvwxyz\"\n",
    "uc=\"ABCDEFGHIJKLMNOPQRSTUVWXYZ\"\n",
    "sc=\"!@#$%&*_\"\n",
    "num=\"1234567890\"\n",
    "lower_case=0\n",
    "upeer_case=0\n",
    "special_character=0\n",
    "number=0\n",
    "\n",
    "for i in range(0,len(a)):\n",
    "    if a[i] in uc:\n",
    "        upeer_case+=1\n",
    "    elif a[i] in lc:\n",
    "        lower_case+=1\n",
    "    elif a[i] in sc:\n",
    "        special_character+=1\n",
    "    elif a[i] in num:\n",
    "        number+=1\n",
    "\n",
    "if (upeer_case>=2):\n",
    "    pass\n",
    "else:\n",
    "\tprint(\"Invalid Password please write at least two uppercase letters\")\n",
    "if (lower_case>=2):\n",
    "    pass\n",
    "else:\n",
    "\tprint(\"Invalid Password please write at least two lowercase letters\")\n",
    "if (special_character>=3):\n",
    "    pass\n",
    "else:\n",
    "\tprint(\"Invalid Password please write at least three special characters\")\n",
    "if (number>=1):\n",
    "    pass\n",
    "else:\n",
    "\tprint(\"Invalid Password please write at least a number\")\n",
    "if (upeer_case+lower_case+special_character+number==len(a)):\n",
    "    print(\"Valid Password\")\n",
    "else:\n",
    "\tprint(\"The length of the password should be 10 characters long\")"
   ]
  },
  {
   "cell_type": "markdown",
   "id": "d3cc1cd3-d726-40f0-8f10-a28926b7228c",
   "metadata": {},
   "source": [
    "Q2. Solve the below-given questions using at least one of the following:\n",
    "1. Lambda function\n",
    "2. Filter function\n",
    "3. Map function\n",
    "4. List Comprehension\n",
    "\n",
    "Check if the string starts with a particular letter\n",
    "\n",
    "Check if the string is numeric\n",
    "\n",
    "Sort a list of tuples having fruit names and their quantity. [(\"mango\",99),(\"orange\",80), (\"grapes\", 1000)]\n",
    "\n",
    "Find the squares of numbers from 1 to 10\n",
    "\n",
    "Find the cube root of numbers from 1 to 10\n",
    "\n",
    "Check if a given number is even\n",
    "\n",
    "Filter odd numbers from the given list.\n",
    "[1,2,3,4,5,6,7,8,9,10]\n",
    "\n",
    "Sort a list of integers into positive and negative integers lists.\n",
    "[1,2,3,4,5,6,-1,-2,-3,-4,-5,0]"
   ]
  },
  {
   "cell_type": "code",
   "execution_count": 2,
   "id": "fed5619a-a2a3-4f19-8fd3-ee2b6e49c5af",
   "metadata": {},
   "outputs": [
    {
     "name": "stdout",
     "output_type": "stream",
     "text": [
      "True\n"
     ]
    }
   ],
   "source": [
    "a = \"Amar is a good boy\"\n",
    "b=a.lower()\n",
    "print(b.startswith(\"a\"))"
   ]
  },
  {
   "cell_type": "code",
   "execution_count": 3,
   "id": "2a3ef845-58e8-4577-8ff8-cdd55dfbe92b",
   "metadata": {},
   "outputs": [
    {
     "name": "stdout",
     "output_type": "stream",
     "text": [
      "True\n"
     ]
    }
   ],
   "source": [
    "a=\"12345566\"\n",
    "print(a.isnumeric())"
   ]
  },
  {
   "cell_type": "code",
   "execution_count": 4,
   "id": "64047b86-c854-4a86-a979-e7b8f092be34",
   "metadata": {},
   "outputs": [
    {
     "name": "stdout",
     "output_type": "stream",
     "text": [
      "[('grapes', 1000), ('mango', 99), ('orange', 80)]\n"
     ]
    }
   ],
   "source": [
    "a=[(\"mango\",99),(\"orange\",80), (\"grapes\", 1000)]\n",
    "a.sort()\n",
    "print(a)"
   ]
  },
  {
   "cell_type": "code",
   "execution_count": 5,
   "id": "ad089548-7ace-4c0f-b82a-6afea677c5f9",
   "metadata": {},
   "outputs": [
    {
     "data": {
      "text/plain": [
       "[1, 4, 9, 16, 25, 36, 49, 64, 81, 100]"
      ]
     },
     "execution_count": 5,
     "metadata": {},
     "output_type": "execute_result"
    }
   ],
   "source": [
    "l=[1,2,3,4,5,6,7,8,9,10]\n",
    "list(map(lambda x:x**2,l))"
   ]
  },
  {
   "cell_type": "code",
   "execution_count": 6,
   "id": "16634537-9e77-4b60-b0a4-230b6c8a030b",
   "metadata": {},
   "outputs": [
    {
     "data": {
      "text/plain": [
       "[1, 8, 27, 64, 125, 216, 343, 512, 729, 1000]"
      ]
     },
     "execution_count": 6,
     "metadata": {},
     "output_type": "execute_result"
    }
   ],
   "source": [
    "l=[1,2,3,4,5,6,7,8,9,10]\n",
    "list(map(lambda x:x**3,l))"
   ]
  },
  {
   "cell_type": "code",
   "execution_count": 7,
   "id": "264d6951-03b0-4123-be94-87f3511d2274",
   "metadata": {},
   "outputs": [
    {
     "name": "stdin",
     "output_type": "stream",
     "text": [
      "Ente your number 10\n"
     ]
    },
    {
     "name": "stdout",
     "output_type": "stream",
     "text": [
      "Even Number\n"
     ]
    }
   ],
   "source": [
    "b=int(input(\"Ente your number\"))\n",
    "if b%2==0:\n",
    "    print(\"Even Number\")\n",
    "else:\n",
    "    print(\"Error!\")"
   ]
  },
  {
   "cell_type": "code",
   "execution_count": 8,
   "id": "6d89c2f5-e1a7-4cec-8cad-03d01d61d0ee",
   "metadata": {},
   "outputs": [
    {
     "data": {
      "text/plain": [
       "[1, 3, 5, 7, 9]"
      ]
     },
     "execution_count": 8,
     "metadata": {},
     "output_type": "execute_result"
    }
   ],
   "source": [
    "l=[1,2,3,4,5,6,7,8,9,10]\n",
    "list(filter(lambda x:x%2!=0,l))"
   ]
  },
  {
   "cell_type": "code",
   "execution_count": 9,
   "id": "eb82f6e3-c701-4b29-ae2e-034ebe7dbfd3",
   "metadata": {},
   "outputs": [
    {
     "name": "stdout",
     "output_type": "stream",
     "text": [
      "[1, 2, 3, 4, 5, 6]\n",
      "[-1, -2, -3, -4, -5]\n"
     ]
    }
   ],
   "source": [
    "l=[1,2,3,4,5,6,-1,-2,-3,-4,-5,0]\n",
    "p_l=[i for i in l if i>0]\n",
    "p_2=[i for i in l if i<0]\n",
    "print(p_l)\n",
    "print(p_2)"
   ]
  }
 ],
 "metadata": {
  "kernelspec": {
   "display_name": "Python 3 (ipykernel)",
   "language": "python",
   "name": "python3"
  },
  "language_info": {
   "codemirror_mode": {
    "name": "ipython",
    "version": 3
   },
   "file_extension": ".py",
   "mimetype": "text/x-python",
   "name": "python",
   "nbconvert_exporter": "python",
   "pygments_lexer": "ipython3",
   "version": "3.10.8"
  }
 },
 "nbformat": 4,
 "nbformat_minor": 5
}
