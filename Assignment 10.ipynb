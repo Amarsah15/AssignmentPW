{
 "cells": [
  {
   "cell_type": "markdown",
   "id": "6fa0a7ef-6a0b-4c22-81aa-1e01787bb645",
   "metadata": {},
   "source": [
    "Q1, Create a vehicle class with an init method having instance variables as name_of_vehicle, max_speed\n",
    "and average_of_vehicle."
   ]
  },
  {
   "cell_type": "code",
   "execution_count": 1,
   "id": "aa90e926-0a68-4997-9e7a-d20c4d4f0b86",
   "metadata": {},
   "outputs": [],
   "source": [
    "class vehicle:\n",
    "    \n",
    "    def __init__(self, name_of_vehicle,max_speed,average_of_vehicle):\n",
    "        self.name_of_vehicle = name_of_vehicle\n",
    "        self.max_speed = max_speed\n",
    "        self.average_of_vehicle= average_of_vehicle\n",
    "    \n",
    "    def return_details(self):\n",
    "        return self.name_of_vehicle, self.max_speed, self.average_of_vehicle"
   ]
  },
  {
   "cell_type": "code",
   "execution_count": 2,
   "id": "4a2241d3-f6d0-4439-b03e-f49fa3bae61f",
   "metadata": {},
   "outputs": [
    {
     "name": "stdout",
     "output_type": "stream",
     "text": [
      "('Toyota', 200, 30)\n",
      "('Honda', 120, 50)\n"
     ]
    }
   ],
   "source": [
    "car = vehicle(\"Toyota\", 200, 30)\n",
    "\n",
    "bike = vehicle(\"Honda\", 120, 50)\n",
    "\n",
    "print(car.return_details())\n",
    "print(bike.return_details())"
   ]
  },
  {
   "cell_type": "markdown",
   "id": "19ad88d8-c8f1-436d-97c0-9bc0fcbc5eaa",
   "metadata": {},
   "source": [
    "Q2. Create a child class car from the vehicle class created in Que 1, which will inherit the vehicle class.\n",
    "Create a method named seating_capacity which takes capacity as an argument and returns the name of\n",
    "the vehicle and its seating capacity."
   ]
  },
  {
   "cell_type": "code",
   "execution_count": 3,
   "id": "d8ae2f39-04d7-41d2-85aa-4a191e0c7189",
   "metadata": {},
   "outputs": [],
   "source": [
    "class car(vehicle):\n",
    "    def seating_capacity(self, capacity):\n",
    "        return f\"{self.name_of_vehicle} has a seating capacity of {capacity} passengers.\""
   ]
  },
  {
   "cell_type": "code",
   "execution_count": 4,
   "id": "08a3671e-7f41-409c-8643-8f6026de0ffa",
   "metadata": {},
   "outputs": [],
   "source": [
    "car_obj = car(\"Toyota\", 180, 25)"
   ]
  },
  {
   "cell_type": "code",
   "execution_count": 5,
   "id": "ec82bbf5-f143-4608-80a8-1a11a8791289",
   "metadata": {},
   "outputs": [
    {
     "data": {
      "text/plain": [
       "'Toyota has a seating capacity of 6 passengers.'"
      ]
     },
     "execution_count": 5,
     "metadata": {},
     "output_type": "execute_result"
    }
   ],
   "source": [
    "car_obj.seating_capacity(6)"
   ]
  },
  {
   "cell_type": "markdown",
   "id": "5b754b96-d863-4a60-b630-8836df5066f0",
   "metadata": {},
   "source": [
    "Q3. What is multiple inheritance? Write a python code to demonstrate multiple inheritance."
   ]
  },
  {
   "cell_type": "markdown",
   "id": "79aaccbd-6285-4d40-aecb-43008c1aafde",
   "metadata": {},
   "source": [
    "Multilevel Inheritance : In multilevel inheritance, features of the base class and the derived class are further inherited into the new derived class. This is similar to a relationship representing a child and a grandfather."
   ]
  },
  {
   "cell_type": "code",
   "execution_count": 6,
   "id": "41f81029-846b-4a2a-9b11-5f6f125fb8da",
   "metadata": {},
   "outputs": [
    {
     "name": "stdout",
     "output_type": "stream",
     "text": [
      "Grandfather name : Uchit\n",
      "Father name : Dharam\n",
      "Son name : Amar\n"
     ]
    }
   ],
   "source": [
    "class Grandfather:\n",
    "\n",
    "\tdef __init__(self, grandfathername):\n",
    "\t\tself.grandfathername = grandfathername\n",
    "\n",
    "class Father(Grandfather):\n",
    "\tdef __init__(self, fathername, grandfathername):\n",
    "\t\tself.fathername = fathername\n",
    "\t\tGrandfather.__init__(self, grandfathername)\n",
    "\n",
    "class Son(Father):\n",
    "\tdef __init__(self, sonname, fathername, grandfathername):\n",
    "\t\tself.sonname = sonname\n",
    "\t\tFather.__init__(self, fathername, grandfathername)\n",
    "\n",
    "\tdef print_name(self):\n",
    "\t\tprint('Grandfather name :', self.grandfathername)\n",
    "\t\tprint(\"Father name :\", self.fathername)\n",
    "\t\tprint(\"Son name :\", self.sonname)\n",
    "\n",
    "\n",
    "s1 = Son('Amar', 'Dharam', 'Uchit')\n",
    "s1.print_name()"
   ]
  },
  {
   "cell_type": "markdown",
   "id": "fea85ce2-1f15-4684-9457-bbe7c30a34ac",
   "metadata": {},
   "source": [
    "Q4. What are getter and setter in python? Create a class and create a getter and a setter method in this\n",
    "class."
   ]
  },
  {
   "cell_type": "markdown",
   "id": "ec5b82e5-2075-4360-9a35-3a261066636d",
   "metadata": {},
   "source": [
    "getters and setters are methods used to access and modify the attributes (instance variables) of a class. They provide a controlled way to retrieve and update the values of the attributes, allowing for data encapsulation and access control.\n",
    "\n",
    "Getter: A getter is a method used to retrieve the value of an attribute. It allows you to access the value of a private attribute without directly accessing it from outside the class.\n",
    "\n",
    "Setter: A setter is a method used to set the value of an attribute. It allows you to modify the value of a private attribute without directly changing it from outside the class."
   ]
  },
  {
   "cell_type": "code",
   "execution_count": 7,
   "id": "e6b6f992-94e5-42ea-92f6-91ccc477faa6",
   "metadata": {},
   "outputs": [
    {
     "name": "stdout",
     "output_type": "stream",
     "text": [
      "John\n",
      "20\n",
      "Age must be a positive value.\n",
      "19\n"
     ]
    }
   ],
   "source": [
    "class person:\n",
    "    def __init__(self, name, age):\n",
    "        self.name = name\n",
    "        self.__age = age\n",
    "\n",
    "    def get_age(self):\n",
    "        return self.__age\n",
    "\n",
    "    def set_age(self, new_age):\n",
    "        if new_age > 0:\n",
    "            self.__age = new_age\n",
    "        else:\n",
    "            print(\"Age must be a positive value.\")\n",
    "\n",
    "\n",
    "person_obj = person(\"John\", 20)\n",
    "\n",
    "print(person_obj.name)             \n",
    "print(person_obj.get_age())        \n",
    "\n",
    "person_obj.set_age(-35)\n",
    "\n",
    "person_obj.set_age(19)\n",
    "print(person_obj.get_age()) "
   ]
  },
  {
   "cell_type": "markdown",
   "id": "0be24cb2-a794-4aa7-b9f5-273f163ee9f1",
   "metadata": {},
   "source": [
    "Q5.What is method overriding in python? Write a python code to demonstrate method overriding."
   ]
  },
  {
   "cell_type": "markdown",
   "id": "c7497773-d624-4192-bd29-c112c483d051",
   "metadata": {},
   "source": [
    "Method overriding occurs when a subclass defines a method with the same name and signature (the same name and parameters) as a method in its superclass. When an object of the subclass calls the overridden method, the subclass's implementation is executed, overriding the behavior defined in the superclass."
   ]
  },
  {
   "cell_type": "code",
   "execution_count": 8,
   "id": "46ab556d-5a26-4947-8a37-3e64c636a40e",
   "metadata": {},
   "outputs": [
    {
     "name": "stdout",
     "output_type": "stream",
     "text": [
      "This is a vehicle.\n",
      "This is a car.\n",
      "This is a bike.\n"
     ]
    }
   ],
   "source": [
    "class vehicle:\n",
    "    def display_info(self):\n",
    "        print(\"This is a vehicle.\")\n",
    "\n",
    "class car(vehicle):\n",
    "    def display_info(self):\n",
    "        print(\"This is a car.\")\n",
    "\n",
    "class bike(vehicle):\n",
    "    def display_info(self):\n",
    "        print(\"This is a bike.\")\n",
    "\n",
    "\n",
    "vehicle_obj = vehicle()\n",
    "vehicle_obj.display_info()   \n",
    "\n",
    "car_obj = car()\n",
    "car_obj.display_info()       \n",
    "\n",
    "bicycle_obj = bike()\n",
    "bicycle_obj.display_info()   "
   ]
  }
 ],
 "metadata": {
  "kernelspec": {
   "display_name": "Python 3 (ipykernel)",
   "language": "python",
   "name": "python3"
  },
  "language_info": {
   "codemirror_mode": {
    "name": "ipython",
    "version": 3
   },
   "file_extension": ".py",
   "mimetype": "text/x-python",
   "name": "python",
   "nbconvert_exporter": "python",
   "pygments_lexer": "ipython3",
   "version": "3.10.8"
  }
 },
 "nbformat": 4,
 "nbformat_minor": 5
}
