{
 "cells": [
  {
   "cell_type": "markdown",
   "id": "adf5227d-dd73-4625-ae5f-09d7706511d1",
   "metadata": {},
   "source": [
    "1. Write a program to accept percentage from the user and display the grade according to the following"
   ]
  },
  {
   "cell_type": "code",
   "execution_count": null,
   "id": "c0c0d2b2-5122-40b1-91b7-6ff05097dc5f",
   "metadata": {},
   "outputs": [],
   "source": [
    "a = int(input(\"Enter Your Marks: \"))\n",
    "if a > 90:\n",
    "    print(\"Your Grade is A\")\n",
    "elif a>80 and a<=90:\n",
    "    print(\"Your Grade is B\")    \n",
    "elif a>=60 and a<=80:\n",
    "    print(\"Your Grade is C\")\n",
    "elif a<60:\n",
    "    print(\"Your Grade is D\")"
   ]
  },
  {
   "cell_type": "markdown",
   "id": "098258f5-e373-4b4b-aabc-73d19d3be4cd",
   "metadata": {},
   "source": [
    "2. Write a program to accept the cost price of a bike and display the road tax to be paid according to the \n",
    "following criteria"
   ]
  },
  {
   "cell_type": "code",
   "execution_count": null,
   "id": "401afc7a-2c72-40eb-997a-910bb206da0b",
   "metadata": {},
   "outputs": [],
   "source": [
    "a = int(input(\"The cost price of a bike:\"))\n",
    "if a>100000:\n",
    "    print(\"Your Tax is 15%\")\n",
    "elif a > 50000 and a <= 100000:\n",
    "    print(\"Your Tax is 10%\")    \n",
    "elif a<=50000:\n",
    "    print(\"Your Tax is 5%\")"
   ]
  },
  {
   "cell_type": "markdown",
   "id": "6064dffa-1da5-4f5a-8755-08dd04a56e76",
   "metadata": {},
   "source": [
    "3. Accept any city from the user and display monuments of that city. "
   ]
  },
  {
   "cell_type": "code",
   "execution_count": null,
   "id": "0c3138e5-8f2e-4ad3-9789-dd4a4cc80926",
   "metadata": {},
   "outputs": [],
   "source": [
    "a = input(\"Enter Your City: \")\n",
    "b=a.lower()\n",
    "if b==\"delhi\":\n",
    "    print(\"Monument=Red Fort\")\n",
    "elif b==\"agra\":\n",
    "    print(\"Monument=Taj Mahal\")    \n",
    "elif b==\"jaipur\":\n",
    "    print(\"Monument=Jal Mahal\")"
   ]
  },
  {
   "cell_type": "markdown",
   "id": "b006a24e-345b-407f-87d1-2b88ba011b66",
   "metadata": {},
   "source": [
    "4. Check how many times a given number can be divided by 3 before it is less than or equal to 10."
   ]
  },
  {
   "cell_type": "code",
   "execution_count": null,
   "id": "2a737448-7f02-478f-9fc5-dbcee7c2b6c5",
   "metadata": {},
   "outputs": [],
   "source": [
    "number = int(input(\"Enter a number: \"))\n",
    "count = 0\n",
    "while number > 10:\n",
    "    number = number / 3\n",
    "    count = count + 1\n",
    "print(\"A given number can be divided by 3 before it is less than or equal to 10: \",count)"
   ]
  },
  {
   "cell_type": "markdown",
   "id": "816850e6-c1c5-4e29-b10f-1bfcbb7d4a0d",
   "metadata": {},
   "source": [
    "5. Why and When to Use while Loop in Python give a detailed description with example"
   ]
  },
  {
   "cell_type": "markdown",
   "id": "f1d13cbf-e57f-48b4-a19e-2e3625fb359b",
   "metadata": {},
   "source": [
    "While loop is used when the number of iterations is not known in advance or when we want to repeat a block of code until a certain condition is met."
   ]
  },
  {
   "cell_type": "code",
   "execution_count": null,
   "id": "582a612f-51f4-40c8-9b3d-cbbcae1a1dc3",
   "metadata": {},
   "outputs": [],
   "source": [
    "# program to display numbers from 1 to 5\n",
    "i = 1\n",
    "n = 5\n",
    "\n",
    "# while loop from i = 1 to 5\n",
    "while i <= n:\n",
    "    print(i)\n",
    "    i = i + 1"
   ]
  },
  {
   "cell_type": "markdown",
   "id": "7ad2f082-2d98-418a-976f-f1d0aa186983",
   "metadata": {},
   "source": [
    "6. Use nested while loop to print 3 different pattern."
   ]
  },
  {
   "cell_type": "code",
   "execution_count": null,
   "id": "c2b3a229-5417-4cba-862d-6adbb6ae196b",
   "metadata": {},
   "outputs": [],
   "source": [
    "n = int(input('Enter number of rows : '))\n",
    " \n",
    "i = 1\n",
    "while i <= n :\n",
    "    j = n\n",
    "    while j >= i:\n",
    "        print(\"*\", end = \" \")\n",
    "        j -= 1\n",
    "    print(\" \")\n",
    "    i += 1\n",
    "    \n",
    "i=1\n",
    "while i<=n:\n",
    "    j=1\n",
    "    while j<=i:\n",
    "        print(j,end=\" \")\n",
    "        j=j+1\n",
    "    print(\"\")\n",
    "    i=i+1 \n",
    "    \n",
    "i=1\n",
    "j=0\n",
    "while(i<=n):\n",
    "    while(j<=i-1):\n",
    "        print(\"* \",end=\"\")\n",
    "        j+=1\n",
    "    print(\" \")\n",
    "    j=0\n",
    "    i+=1\n",
    " "
   ]
  },
  {
   "cell_type": "markdown",
   "id": "b929a390-7603-4a3b-bdc6-2b346197552a",
   "metadata": {},
   "source": [
    "7. Reverse a while loop to display numbers from 10 to 1."
   ]
  },
  {
   "cell_type": "code",
   "execution_count": null,
   "id": "77adc64d-8683-4c28-a027-babe4118eb14",
   "metadata": {},
   "outputs": [],
   "source": [
    "i = 10\n",
    "while i > 0:\n",
    "    print(i)\n",
    "    i = i - 1"
   ]
  },
  {
   "cell_type": "markdown",
   "id": "90cc88c8-b898-44c6-a472-09a17163108e",
   "metadata": {},
   "source": [
    "8. Reverse a while loop to display numbers from 10 to 1 "
   ]
  },
  {
   "cell_type": "code",
   "execution_count": null,
   "id": "1ae44a5c-87e8-4edc-8b40-600ee0a5929e",
   "metadata": {},
   "outputs": [],
   "source": [
    "i = 10\n",
    "while i > 0:\n",
    "    print(i)\n",
    "    i = i - 1"
   ]
  },
  {
   "cell_type": "code",
   "execution_count": null,
   "id": "c81aefc0-0d40-459e-a6db-27e38b1e69d7",
   "metadata": {},
   "outputs": [],
   "source": []
  }
 ],
 "metadata": {
  "kernelspec": {
   "display_name": "Python 3 (ipykernel)",
   "language": "python",
   "name": "python3"
  },
  "language_info": {
   "codemirror_mode": {
    "name": "ipython",
    "version": 3
   },
   "file_extension": ".py",
   "mimetype": "text/x-python",
   "name": "python",
   "nbconvert_exporter": "python",
   "pygments_lexer": "ipython3",
   "version": "3.10.8"
  }
 },
 "nbformat": 4,
 "nbformat_minor": 5
}
